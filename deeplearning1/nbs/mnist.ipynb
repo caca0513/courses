{
 "cells": [
  {
   "cell_type": "code",
   "execution_count": 1,
   "metadata": {},
   "outputs": [
    {
     "ename": "RuntimeError",
     "evalue": "module compiled against API version 0xb but this version of numpy is 0xa",
     "output_type": "error",
     "traceback": [
      "\u001b[1;31m---------------------------------------------------------------------------\u001b[0m",
      "\u001b[1;31mRuntimeError\u001b[0m                              Traceback (most recent call last)",
      "\u001b[1;31mRuntimeError\u001b[0m: module compiled against API version 0xb but this version of numpy is 0xa"
     ]
    },
    {
     "ename": "RuntimeError",
     "evalue": "module compiled against API version 0xb but this version of numpy is 0xa",
     "output_type": "error",
     "traceback": [
      "\u001b[1;31m---------------------------------------------------------------------------\u001b[0m",
      "\u001b[1;31mImportError\u001b[0m                               Traceback (most recent call last)",
      "\u001b[1;32mI:\\ML\\Anaconda3\\envs\\dlwin36\\lib\\site-packages\\theano\\gof\\cutils.py\u001b[0m in \u001b[0;36m<module>\u001b[1;34m()\u001b[0m\n\u001b[0;32m    305\u001b[0m     \u001b[1;32mtry\u001b[0m\u001b[1;33m:\u001b[0m\u001b[1;33m\u001b[0m\u001b[0m\n\u001b[1;32m--> 306\u001b[1;33m         \u001b[1;32mfrom\u001b[0m \u001b[0mcutils_ext\u001b[0m\u001b[1;33m.\u001b[0m\u001b[0mcutils_ext\u001b[0m \u001b[1;32mimport\u001b[0m \u001b[1;33m*\u001b[0m  \u001b[1;31m# noqa\u001b[0m\u001b[1;33m\u001b[0m\u001b[0m\n\u001b[0m\u001b[0;32m    307\u001b[0m     \u001b[1;32mexcept\u001b[0m \u001b[0mImportError\u001b[0m\u001b[1;33m:\u001b[0m\u001b[1;33m\u001b[0m\u001b[0m\n",
      "\u001b[1;31mImportError\u001b[0m: numpy.core.multiarray failed to import",
      "\nDuring handling of the above exception, another exception occurred:\n",
      "\u001b[1;31mRuntimeError\u001b[0m                              Traceback (most recent call last)",
      "\u001b[1;31mRuntimeError\u001b[0m: module compiled against API version 0xb but this version of numpy is 0xa"
     ]
    },
    {
     "name": "stdout",
     "output_type": "stream",
     "text": [
      "===============================\n",
      "===============================\n",
      "I:/ML/Anaconda3/envs/dlwin36/Library/mingw-w64/bin/../lib/gcc/x86_64-w64-mingw32/5.3.0/../../../../x86_64-w64-mingw32/bin/ld.exe: cannot open output file C:\\Users\\Administrator\\AppData\\Local\\Theano\\compiledir_Windows-10-10.0.16299-SP0-Intel64_Family_6_Model_60_Stepping_3_GenuineIntel-3.6.2-64\\cutils_ext\\cutils_ext.pyd: Permission denied\r\n",
      "collect2.exe: error: ld returned 1 exit status\r\n",
      "\n"
     ]
    },
    {
     "name": "stderr",
     "output_type": "stream",
     "text": [
      "00001\t\n",
      "00002\t        #include \"numpy/npy_3kcompat.h\"\n",
      "00003\t        #include \"numpy/arrayobject.h\"\n",
      "00004\t        #include \"theano_mod_helper.h\"\n",
      "00005\t\n",
      "00006\t        extern \"C\"{\n",
      "00007\t        static PyObject *\n",
      "00008\t        run_cthunk(PyObject *self, PyObject *args)\n",
      "00009\t        {\n",
      "00010\t          PyObject *py_cthunk = NULL;\n",
      "00011\t          if(!PyArg_ParseTuple(args,\"O\",&py_cthunk))\n",
      "00012\t            return NULL;\n",
      "00013\t\n",
      "00014\t          if (!NpyCapsule_Check(py_cthunk)) {\n",
      "00015\t            PyErr_SetString(PyExc_ValueError,\n",
      "00016\t                           \"Argument to run_cthunk must be a NpyCapsule.\");\n",
      "00017\t            return NULL;\n",
      "00018\t          }\n",
      "00019\t          void * ptr_addr = NpyCapsule_AsVoidPtr(py_cthunk);\n",
      "00020\t          int (*fn)(void*) = (int (*)(void*))(ptr_addr);\n",
      "00021\t          void* it = NpyCapsule_GetDesc(py_cthunk);\n",
      "00022\t          int failure = fn(it);\n",
      "00023\t\n",
      "00024\t          return Py_BuildValue(\"i\", failure);\n",
      "00025\t         }\n",
      "00026\t        #if NPY_API_VERSION >= 0x00000008\n",
      "00027\t        typedef void (*inplace_map_binop)(PyArrayMapIterObject *,\n",
      "00028\t                                          PyArrayIterObject *, int inc_or_set);\n",
      "00029\t        \n",
      "00030\t    #if defined(NPY_INT8)\n",
      "00031\t    static void npy_int8_inplace_add(PyArrayMapIterObject *mit,\n",
      "00032\t                                     PyArrayIterObject *it, int inc_or_set)\n",
      "00033\t    {\n",
      "00034\t        int index = mit->size;\n",
      "00035\t        while (index--) {\n",
      "00036\t            ((npy_int8*)mit->dataptr)[0] = (inc_or_set ? ((npy_int8*)mit->dataptr)[0] : 0) + ((npy_int8*)it->dataptr)[0];\n",
      "00037\t\n",
      "00038\t            PyArray_MapIterNext(mit);\n",
      "00039\t            PyArray_ITER_NEXT(it);\n",
      "00040\t        }\n",
      "00041\t    }\n",
      "00042\t    #endif\n",
      "00043\t    \n",
      "00044\t    #if defined(NPY_INT16)\n",
      "00045\t    static void npy_int16_inplace_add(PyArrayMapIterObject *mit,\n",
      "00046\t                                     PyArrayIterObject *it, int inc_or_set)\n",
      "00047\t    {\n",
      "00048\t        int index = mit->size;\n",
      "00049\t        while (index--) {\n",
      "00050\t            ((npy_int16*)mit->dataptr)[0] = (inc_or_set ? ((npy_int16*)mit->dataptr)[0] : 0) + ((npy_int16*)it->dataptr)[0];\n",
      "00051\t\n",
      "00052\t            PyArray_MapIterNext(mit);\n",
      "00053\t            PyArray_ITER_NEXT(it);\n",
      "00054\t        }\n",
      "00055\t    }\n",
      "00056\t    #endif\n",
      "00057\t    \n",
      "00058\t    #if defined(NPY_INT32)\n",
      "00059\t    static void npy_int32_inplace_add(PyArrayMapIterObject *mit,\n",
      "00060\t                                     PyArrayIterObject *it, int inc_or_set)\n",
      "00061\t    {\n",
      "00062\t        int index = mit->size;\n",
      "00063\t        while (index--) {\n",
      "00064\t            ((npy_int32*)mit->dataptr)[0] = (inc_or_set ? ((npy_int32*)mit->dataptr)[0] : 0) + ((npy_int32*)it->dataptr)[0];\n",
      "00065\t\n",
      "00066\t            PyArray_MapIterNext(mit);\n",
      "00067\t            PyArray_ITER_NEXT(it);\n",
      "00068\t        }\n",
      "00069\t    }\n",
      "00070\t    #endif\n",
      "00071\t    \n",
      "00072\t    #if defined(NPY_INT64)\n",
      "00073\t    static void npy_int64_inplace_add(PyArrayMapIterObject *mit,\n",
      "00074\t                                     PyArrayIterObject *it, int inc_or_set)\n",
      "00075\t    {\n",
      "00076\t        int index = mit->size;\n",
      "00077\t        while (index--) {\n",
      "00078\t            ((npy_int64*)mit->dataptr)[0] = (inc_or_set ? ((npy_int64*)mit->dataptr)[0] : 0) + ((npy_int64*)it->dataptr)[0];\n",
      "00079\t\n",
      "00080\t            PyArray_MapIterNext(mit);\n",
      "00081\t            PyArray_ITER_NEXT(it);\n",
      "00082\t        }\n",
      "00083\t    }\n",
      "00084\t    #endif\n",
      "00085\t    \n",
      "00086\t    #if defined(NPY_INT128)\n",
      "00087\t    static void npy_int128_inplace_add(PyArrayMapIterObject *mit,\n",
      "00088\t                                     PyArrayIterObject *it, int inc_or_set)\n",
      "00089\t    {\n",
      "00090\t        int index = mit->size;\n",
      "00091\t        while (index--) {\n",
      "00092\t            ((npy_int128*)mit->dataptr)[0] = (inc_or_set ? ((npy_int128*)mit->dataptr)[0] : 0) + ((npy_int128*)it->dataptr)[0];\n",
      "00093\t\n",
      "00094\t            PyArray_MapIterNext(mit);\n",
      "00095\t            PyArray_ITER_NEXT(it);\n",
      "00096\t        }\n",
      "00097\t    }\n",
      "00098\t    #endif\n",
      "00099\t    \n",
      "00100\t    #if defined(NPY_INT256)\n",
      "00101\t    static void npy_int256_inplace_add(PyArrayMapIterObject *mit,\n",
      "00102\t                                     PyArrayIterObject *it, int inc_or_set)\n",
      "00103\t    {\n",
      "00104\t        int index = mit->size;\n",
      "00105\t        while (index--) {\n",
      "00106\t            ((npy_int256*)mit->dataptr)[0] = (inc_or_set ? ((npy_int256*)mit->dataptr)[0] : 0) + ((npy_int256*)it->dataptr)[0];\n",
      "00107\t\n",
      "00108\t            PyArray_MapIterNext(mit);\n",
      "00109\t            PyArray_ITER_NEXT(it);\n",
      "00110\t        }\n",
      "00111\t    }\n",
      "00112\t    #endif\n",
      "00113\t    \n",
      "00114\t    #if defined(NPY_UINT8)\n",
      "00115\t    static void npy_uint8_inplace_add(PyArrayMapIterObject *mit,\n",
      "00116\t                                     PyArrayIterObject *it, int inc_or_set)\n",
      "00117\t    {\n",
      "00118\t        int index = mit->size;\n",
      "00119\t        while (index--) {\n",
      "00120\t            ((npy_uint8*)mit->dataptr)[0] = (inc_or_set ? ((npy_uint8*)mit->dataptr)[0] : 0) + ((npy_uint8*)it->dataptr)[0];\n",
      "00121\t\n",
      "00122\t            PyArray_MapIterNext(mit);\n",
      "00123\t            PyArray_ITER_NEXT(it);\n",
      "00124\t        }\n",
      "00125\t    }\n",
      "00126\t    #endif\n",
      "00127\t    \n",
      "00128\t    #if defined(NPY_UINT16)\n",
      "00129\t    static void npy_uint16_inplace_add(PyArrayMapIterObject *mit,\n",
      "00130\t                                     PyArrayIterObject *it, int inc_or_set)\n",
      "00131\t    {\n",
      "00132\t        int index = mit->size;\n",
      "00133\t        while (index--) {\n",
      "00134\t            ((npy_uint16*)mit->dataptr)[0] = (inc_or_set ? ((npy_uint16*)mit->dataptr)[0] : 0) + ((npy_uint16*)it->dataptr)[0];\n",
      "00135\t\n",
      "00136\t            PyArray_MapIterNext(mit);\n",
      "00137\t            PyArray_ITER_NEXT(it);\n",
      "00138\t        }\n",
      "00139\t    }\n",
      "00140\t    #endif\n",
      "00141\t    \n",
      "00142\t    #if defined(NPY_UINT32)\n",
      "00143\t    static void npy_uint32_inplace_add(PyArrayMapIterObject *mit,\n",
      "00144\t                                     PyArrayIterObject *it, int inc_or_set)\n",
      "00145\t    {\n",
      "00146\t        int index = mit->size;\n",
      "00147\t        while (index--) {\n",
      "00148\t            ((npy_uint32*)mit->dataptr)[0] = (inc_or_set ? ((npy_uint32*)mit->dataptr)[0] : 0) + ((npy_uint32*)it->dataptr)[0];\n",
      "00149\t\n",
      "00150\t            PyArray_MapIterNext(mit);\n",
      "00151\t            PyArray_ITER_NEXT(it);\n",
      "00152\t        }\n",
      "00153\t    }\n",
      "00154\t    #endif\n",
      "00155\t    \n",
      "00156\t    #if defined(NPY_UINT64)\n",
      "00157\t    static void npy_uint64_inplace_add(PyArrayMapIterObject *mit,\n",
      "00158\t                                     PyArrayIterObject *it, int inc_or_set)\n",
      "00159\t    {\n",
      "00160\t        int index = mit->size;\n",
      "00161\t        while (index--) {\n",
      "00162\t            ((npy_uint64*)mit->dataptr)[0] = (inc_or_set ? ((npy_uint64*)mit->dataptr)[0] : 0) + ((npy_uint64*)it->dataptr)[0];\n",
      "00163\t\n",
      "00164\t            PyArray_MapIterNext(mit);\n",
      "00165\t            PyArray_ITER_NEXT(it);\n",
      "00166\t        }\n",
      "00167\t    }\n",
      "00168\t    #endif\n",
      "00169\t    \n",
      "00170\t    #if defined(NPY_UINT128)\n",
      "00171\t    static void npy_uint128_inplace_add(PyArrayMapIterObject *mit,\n",
      "00172\t                                     PyArrayIterObject *it, int inc_or_set)\n",
      "00173\t    {\n",
      "00174\t        int index = mit->size;\n",
      "00175\t        while (index--) {\n",
      "00176\t            ((npy_uint128*)mit->dataptr)[0] = (inc_or_set ? ((npy_uint128*)mit->dataptr)[0] : 0) + ((npy_uint128*)it->dataptr)[0];\n",
      "00177\t\n",
      "00178\t            PyArray_MapIterNext(mit);\n",
      "00179\t            PyArray_ITER_NEXT(it);\n",
      "00180\t        }\n",
      "00181\t    }\n",
      "00182\t    #endif\n",
      "00183\t    \n",
      "00184\t    #if defined(NPY_UINT256)\n",
      "00185\t    static void npy_uint256_inplace_add(PyArrayMapIterObject *mit,\n",
      "00186\t                                     PyArrayIterObject *it, int inc_or_set)\n",
      "00187\t    {\n",
      "00188\t        int index = mit->size;\n",
      "00189\t        while (index--) {\n",
      "00190\t            ((npy_uint256*)mit->dataptr)[0] = (inc_or_set ? ((npy_uint256*)mit->dataptr)[0] : 0) + ((npy_uint256*)it->dataptr)[0];\n",
      "00191\t\n",
      "00192\t            PyArray_MapIterNext(mit);\n",
      "00193\t            PyArray_ITER_NEXT(it);\n",
      "00194\t        }\n",
      "00195\t    }\n",
      "00196\t    #endif\n",
      "00197\t    \n",
      "00198\t    #if defined(NPY_FLOAT16)\n",
      "00199\t    static void npy_float16_inplace_add(PyArrayMapIterObject *mit,\n",
      "00200\t                                     PyArrayIterObject *it, int inc_or_set)\n",
      "00201\t    {\n",
      "00202\t        int index = mit->size;\n",
      "00203\t        while (index--) {\n",
      "00204\t            ((npy_float16*)mit->dataptr)[0] = (inc_or_set ? ((npy_float16*)mit->dataptr)[0] : 0) + ((npy_float16*)it->dataptr)[0];\n",
      "00205\t\n",
      "00206\t            PyArray_MapIterNext(mit);\n",
      "00207\t            PyArray_ITER_NEXT(it);\n",
      "00208\t        }\n",
      "00209\t    }\n",
      "00210\t    #endif\n",
      "00211\t    \n",
      "00212\t    #if defined(NPY_FLOAT32)\n",
      "00213\t    static void npy_float32_inplace_add(PyArrayMapIterObject *mit,\n",
      "00214\t                                     PyArrayIterObject *it, int inc_or_set)\n",
      "00215\t    {\n",
      "00216\t        int index = mit->size;\n",
      "00217\t        while (index--) {\n",
      "00218\t            ((npy_float32*)mit->dataptr)[0] = (inc_or_set ? ((npy_float32*)mit->dataptr)[0] : 0) + ((npy_float32*)it->dataptr)[0];\n",
      "00219\t\n",
      "00220\t            PyArray_MapIterNext(mit);\n",
      "00221\t            PyArray_ITER_NEXT(it);\n",
      "00222\t        }\n",
      "00223\t    }\n",
      "00224\t    #endif\n",
      "00225\t    \n",
      "00226\t    #if defined(NPY_FLOAT64)\n",
      "00227\t    static void npy_float64_inplace_add(PyArrayMapIterObject *mit,\n",
      "00228\t                                     PyArrayIterObject *it, int inc_or_set)\n",
      "00229\t    {\n",
      "00230\t        int index = mit->size;\n",
      "00231\t        while (index--) {\n",
      "00232\t            ((npy_float64*)mit->dataptr)[0] = (inc_or_set ? ((npy_float64*)mit->dataptr)[0] : 0) + ((npy_float64*)it->dataptr)[0];\n",
      "00233\t\n",
      "00234\t            PyArray_MapIterNext(mit);\n",
      "00235\t            PyArray_ITER_NEXT(it);\n",
      "00236\t        }\n",
      "00237\t    }\n",
      "00238\t    #endif\n",
      "00239\t    \n",
      "00240\t    #if defined(NPY_FLOAT80)\n",
      "00241\t    static void npy_float80_inplace_add(PyArrayMapIterObject *mit,\n",
      "00242\t                                     PyArrayIterObject *it, int inc_or_set)\n",
      "00243\t    {\n",
      "00244\t        int index = mit->size;\n",
      "00245\t        while (index--) {\n",
      "00246\t            ((npy_float80*)mit->dataptr)[0] = (inc_or_set ? ((npy_float80*)mit->dataptr)[0] : 0) + ((npy_float80*)it->dataptr)[0];\n",
      "00247\t\n",
      "00248\t            PyArray_MapIterNext(mit);\n",
      "00249\t            PyArray_ITER_NEXT(it);\n",
      "00250\t        }\n",
      "00251\t    }\n",
      "00252\t    #endif\n",
      "00253\t    \n",
      "00254\t    #if defined(NPY_FLOAT96)\n",
      "00255\t    static void npy_float96_inplace_add(PyArrayMapIterObject *mit,\n",
      "00256\t                                     PyArrayIterObject *it, int inc_or_set)\n",
      "00257\t    {\n",
      "00258\t        int index = mit->size;\n",
      "00259\t        while (index--) {\n",
      "00260\t            ((npy_float96*)mit->dataptr)[0] = (inc_or_set ? ((npy_float96*)mit->dataptr)[0] : 0) + ((npy_float96*)it->dataptr)[0];\n",
      "00261\t\n",
      "00262\t            PyArray_MapIterNext(mit);\n",
      "00263\t            PyArray_ITER_NEXT(it);\n",
      "00264\t        }\n",
      "00265\t    }\n",
      "00266\t    #endif\n",
      "00267\t    \n",
      "00268\t    #if defined(NPY_FLOAT128)\n",
      "00269\t    static void npy_float128_inplace_add(PyArrayMapIterObject *mit,\n",
      "00270\t                                     PyArrayIterObject *it, int inc_or_set)\n",
      "00271\t    {\n",
      "00272\t        int index = mit->size;\n",
      "00273\t        while (index--) {\n",
      "00274\t            ((npy_float128*)mit->dataptr)[0] = (inc_or_set ? ((npy_float128*)mit->dataptr)[0] : 0) + ((npy_float128*)it->dataptr)[0];\n",
      "00275\t\n",
      "00276\t            PyArray_MapIterNext(mit);\n",
      "00277\t            PyArray_ITER_NEXT(it);\n",
      "00278\t        }\n",
      "00279\t    }\n",
      "00280\t    #endif\n",
      "00281\t    \n",
      "00282\t    #if defined(NPY_FLOAT256)\n",
      "00283\t    static void npy_float256_inplace_add(PyArrayMapIterObject *mit,\n",
      "00284\t                                     PyArrayIterObject *it, int inc_or_set)\n",
      "00285\t    {\n",
      "00286\t        int index = mit->size;\n",
      "00287\t        while (index--) {\n",
      "00288\t            ((npy_float256*)mit->dataptr)[0] = (inc_or_set ? ((npy_float256*)mit->dataptr)[0] : 0) + ((npy_float256*)it->dataptr)[0];\n",
      "00289\t\n",
      "00290\t            PyArray_MapIterNext(mit);\n",
      "00291\t            PyArray_ITER_NEXT(it);\n",
      "00292\t        }\n",
      "00293\t    }\n",
      "00294\t    #endif\n",
      "00295\t    \n",
      "00296\t    #if defined(NPY_COMPLEX32)\n",
      "00297\t    static void npy_complex32_inplace_add(PyArrayMapIterObject *mit,\n",
      "00298\t                                     PyArrayIterObject *it, int inc_or_set)\n",
      "00299\t    {\n",
      "00300\t        int index = mit->size;\n",
      "00301\t        while (index--) {\n",
      "00302\t            \n",
      "00303\t    ((npy_complex32*)mit->dataptr)[0].real =\n",
      "00304\t        (inc_or_set ? ((npy_complex32*)mit->dataptr)[0].real : 0)\n",
      "00305\t        + ((npy_complex32*)it->dataptr)[0].real;\n",
      "00306\t    ((npy_complex32*)mit->dataptr)[0].imag =\n",
      "00307\t        (inc_or_set ? ((npy_complex32*)mit->dataptr)[0].imag : 0)\n",
      "00308\t        + ((npy_complex32*)it->dataptr)[0].imag;\n",
      "00309\t    \n",
      "00310\t\n",
      "00311\t            PyArray_MapIterNext(mit);\n",
      "00312\t            PyArray_ITER_NEXT(it);\n",
      "00313\t        }\n",
      "00314\t    }\n",
      "00315\t    #endif\n",
      "00316\t    \n",
      "00317\t    #if defined(NPY_COMPLEX64)\n",
      "00318\t    static void npy_complex64_inplace_add(PyArrayMapIterObject *mit,\n",
      "00319\t                                     PyArrayIterObject *it, int inc_or_set)\n",
      "00320\t    {\n",
      "00321\t        int index = mit->size;\n",
      "00322\t        while (index--) {\n",
      "00323\t            \n",
      "00324\t    ((npy_complex64*)mit->dataptr)[0].real =\n",
      "00325\t        (inc_or_set ? ((npy_complex64*)mit->dataptr)[0].real : 0)\n",
      "00326\t        + ((npy_complex64*)it->dataptr)[0].real;\n",
      "00327\t    ((npy_complex64*)mit->dataptr)[0].imag =\n",
      "00328\t        (inc_or_set ? ((npy_complex64*)mit->dataptr)[0].imag : 0)\n",
      "00329\t        + ((npy_complex64*)it->dataptr)[0].imag;\n",
      "00330\t    \n",
      "00331\t\n",
      "00332\t            PyArray_MapIterNext(mit);\n",
      "00333\t            PyArray_ITER_NEXT(it);\n",
      "00334\t        }\n",
      "00335\t    }\n",
      "00336\t    #endif\n",
      "00337\t    \n",
      "00338\t    #if defined(NPY_COMPLEX128)\n",
      "00339\t    static void npy_complex128_inplace_add(PyArrayMapIterObject *mit,\n",
      "00340\t                                     PyArrayIterObject *it, int inc_or_set)\n",
      "00341\t    {\n",
      "00342\t        int index = mit->size;\n",
      "00343\t        while (index--) {\n",
      "00344\t            \n",
      "00345\t    ((npy_complex128*)mit->dataptr)[0].real =\n",
      "00346\t        (inc_or_set ? ((npy_complex128*)mit->dataptr)[0].real : 0)\n",
      "00347\t        + ((npy_complex128*)it->dataptr)[0].real;\n",
      "00348\t    ((npy_complex128*)mit->dataptr)[0].imag =\n",
      "00349\t        (inc_or_set ? ((npy_complex128*)mit->dataptr)[0].imag : 0)\n",
      "00350\t        + ((npy_complex128*)it->dataptr)[0].imag;\n",
      "00351\t    \n",
      "00352\t\n",
      "00353\t            PyArray_MapIterNext(mit);\n",
      "00354\t            PyArray_ITER_NEXT(it);\n",
      "00355\t        }\n",
      "00356\t    }\n",
      "00357\t    #endif\n",
      "00358\t    \n",
      "00359\t    #if defined(NPY_COMPLEX160)\n",
      "00360\t    static void npy_complex160_inplace_add(PyArrayMapIterObject *mit,\n",
      "00361\t                                     PyArrayIterObject *it, int inc_or_set)\n",
      "00362\t    {\n",
      "00363\t        int index = mit->size;\n",
      "00364\t        while (index--) {\n",
      "00365\t            \n",
      "00366\t    ((npy_complex160*)mit->dataptr)[0].real =\n",
      "00367\t        (inc_or_set ? ((npy_complex160*)mit->dataptr)[0].real : 0)\n",
      "00368\t        + ((npy_complex160*)it->dataptr)[0].real;\n",
      "00369\t    ((npy_complex160*)mit->dataptr)[0].imag =\n",
      "00370\t        (inc_or_set ? ((npy_complex160*)mit->dataptr)[0].imag : 0)\n",
      "00371\t        + ((npy_complex160*)it->dataptr)[0].imag;\n",
      "00372\t    \n",
      "00373\t\n",
      "00374\t            PyArray_MapIterNext(mit);\n",
      "00375\t            PyArray_ITER_NEXT(it);\n",
      "00376\t        }\n",
      "00377\t    }\n",
      "00378\t    #endif\n",
      "00379\t    \n",
      "00380\t    #if defined(NPY_COMPLEX192)\n",
      "00381\t    static void npy_complex192_inplace_add(PyArrayMapIterObject *mit,\n",
      "00382\t                                     PyArrayIterObject *it, int inc_or_set)\n",
      "00383\t    {\n",
      "00384\t        int index = mit->size;\n",
      "00385\t        while (index--) {\n",
      "00386\t            \n",
      "00387\t    ((npy_complex192*)mit->dataptr)[0].real =\n",
      "00388\t        (inc_or_set ? ((npy_complex192*)mit->dataptr)[0].real : 0)\n",
      "00389\t        + ((npy_complex192*)it->dataptr)[0].real;\n",
      "00390\t    ((npy_complex192*)mit->dataptr)[0].imag =\n",
      "00391\t        (inc_or_set ? ((npy_complex192*)mit->dataptr)[0].imag : 0)\n",
      "00392\t        + ((npy_complex192*)it->dataptr)[0].imag;\n",
      "00393\t    \n",
      "00394\t\n",
      "00395\t            PyArray_MapIterNext(mit);\n",
      "00396\t            PyArray_ITER_NEXT(it);\n",
      "00397\t        }\n",
      "00398\t    }\n",
      "00399\t    #endif\n",
      "00400\t    \n",
      "00401\t    #if defined(NPY_COMPLEX512)\n",
      "00402\t    static void npy_complex512_inplace_add(PyArrayMapIterObject *mit,\n",
      "00403\t                                     PyArrayIterObject *it, int inc_or_set)\n",
      "00404\t    {\n",
      "00405\t        int index = mit->size;\n",
      "00406\t        while (index--) {\n",
      "00407\t            \n",
      "00408\t    ((npy_complex512*)mit->dataptr)[0].real =\n",
      "00409\t        (inc_or_set ? ((npy_complex512*)mit->dataptr)[0].real : 0)\n",
      "00410\t        + ((npy_complex512*)it->dataptr)[0].real;\n",
      "00411\t    ((npy_complex512*)mit->dataptr)[0].imag =\n",
      "00412\t        (inc_or_set ? ((npy_complex512*)mit->dataptr)[0].imag : 0)\n",
      "00413\t        + ((npy_complex512*)it->dataptr)[0].imag;\n",
      "00414\t    \n",
      "00415\t\n",
      "00416\t            PyArray_MapIterNext(mit);\n",
      "00417\t            PyArray_ITER_NEXT(it);\n",
      "00418\t        }\n",
      "00419\t    }\n",
      "00420\t    #endif\n",
      "00421\t    static inplace_map_binop addition_funcs[] = {\n",
      "00422\t#if defined(NPY_INT8)\n",
      "00423\tnpy_int8_inplace_add,\n",
      "00424\t#endif\n",
      "00425\t\n",
      "00426\t#if defined(NPY_INT16)\n",
      "00427\tnpy_int16_inplace_add,\n",
      "00428\t#endif\n",
      "00429\t\n",
      "00430\t#if defined(NPY_INT32)\n",
      "00431\tnpy_int32_inplace_add,\n",
      "00432\t#endif\n",
      "00433\t\n",
      "00434\t#if defined(NPY_INT64)\n",
      "00435\tnpy_int64_inplace_add,\n",
      "00436\t#endif\n",
      "00437\t\n",
      "00438\t#if defined(NPY_INT128)\n",
      "00439\tnpy_int128_inplace_add,\n",
      "00440\t#endif\n",
      "00441\t\n",
      "00442\t#if defined(NPY_INT256)\n",
      "00443\tnpy_int256_inplace_add,\n",
      "00444\t#endif\n",
      "00445\t\n",
      "00446\t#if defined(NPY_UINT8)\n",
      "00447\tnpy_uint8_inplace_add,\n",
      "00448\t#endif\n",
      "00449\t\n",
      "00450\t#if defined(NPY_UINT16)\n",
      "00451\tnpy_uint16_inplace_add,\n",
      "00452\t#endif\n",
      "00453\t\n",
      "00454\t#if defined(NPY_UINT32)\n",
      "00455\tnpy_uint32_inplace_add,\n",
      "00456\t#endif\n",
      "00457\t\n",
      "00458\t#if defined(NPY_UINT64)\n",
      "00459\tnpy_uint64_inplace_add,\n",
      "00460\t#endif\n",
      "00461\t\n",
      "00462\t#if defined(NPY_UINT128)\n",
      "00463\tnpy_uint128_inplace_add,\n",
      "00464\t#endif\n",
      "00465\t\n",
      "00466\t#if defined(NPY_UINT256)\n",
      "00467\tnpy_uint256_inplace_add,\n",
      "00468\t#endif\n",
      "00469\t\n",
      "00470\t#if defined(NPY_FLOAT16)\n",
      "00471\tnpy_float16_inplace_add,\n",
      "00472\t#endif\n",
      "00473\t\n",
      "00474\t#if defined(NPY_FLOAT32)\n",
      "00475\tnpy_float32_inplace_add,\n",
      "00476\t#endif\n",
      "00477\t\n",
      "00478\t#if defined(NPY_FLOAT64)\n",
      "00479\tnpy_float64_inplace_add,\n",
      "00480\t#endif\n",
      "00481\t\n",
      "00482\t#if defined(NPY_FLOAT80)\n",
      "00483\tnpy_float80_inplace_add,\n",
      "00484\t#endif\n",
      "00485\t\n",
      "00486\t#if defined(NPY_FLOAT96)\n",
      "00487\tnpy_float96_inplace_add,\n",
      "00488\t#endif\n",
      "00489\t\n",
      "00490\t#if defined(NPY_FLOAT128)\n",
      "00491\tnpy_float128_inplace_add,\n",
      "00492\t#endif\n",
      "00493\t\n",
      "00494\t#if defined(NPY_FLOAT256)\n",
      "00495\tnpy_float256_inplace_add,\n",
      "00496\t#endif\n",
      "00497\t\n",
      "00498\t#if defined(NPY_COMPLEX32)\n",
      "00499\tnpy_complex32_inplace_add,\n",
      "00500\t#endif\n",
      "00501\t\n",
      "00502\t#if defined(NPY_COMPLEX64)\n",
      "00503\tnpy_complex64_inplace_add,\n",
      "00504\t#endif\n",
      "00505\t\n",
      "00506\t#if defined(NPY_COMPLEX128)\n",
      "00507\tnpy_complex128_inplace_add,\n",
      "00508\t#endif\n",
      "00509\t\n",
      "00510\t#if defined(NPY_COMPLEX160)\n",
      "00511\tnpy_complex160_inplace_add,\n",
      "00512\t#endif\n",
      "00513\t\n",
      "00514\t#if defined(NPY_COMPLEX192)\n",
      "00515\tnpy_complex192_inplace_add,\n",
      "00516\t#endif\n",
      "00517\t\n",
      "00518\t#if defined(NPY_COMPLEX512)\n",
      "00519\tnpy_complex512_inplace_add,\n",
      "00520\t#endif\n",
      "00521\tNULL};\n",
      "00522\tstatic int type_numbers[] = {\n",
      "00523\t#if defined(NPY_INT8)\n",
      "00524\tNPY_INT8,\n",
      "00525\t#endif\n",
      "00526\t\n",
      "00527\t#if defined(NPY_INT16)\n",
      "00528\tNPY_INT16,\n",
      "00529\t#endif\n",
      "00530\t\n",
      "00531\t#if defined(NPY_INT32)\n",
      "00532\tNPY_INT32,\n",
      "00533\t#endif\n",
      "00534\t\n",
      "00535\t#if defined(NPY_INT64)\n",
      "00536\tNPY_INT64,\n",
      "00537\t#endif\n",
      "00538\t\n",
      "00539\t#if defined(NPY_INT128)\n",
      "00540\tNPY_INT128,\n",
      "00541\t#endif\n",
      "00542\t\n",
      "00543\t#if defined(NPY_INT256)\n",
      "00544\tNPY_INT256,\n",
      "00545\t#endif\n",
      "00546\t\n",
      "00547\t#if defined(NPY_UINT8)\n",
      "00548\tNPY_UINT8,\n",
      "00549\t#endif\n",
      "00550\t\n",
      "00551\t#if defined(NPY_UINT16)\n",
      "00552\tNPY_UINT16,\n",
      "00553\t#endif\n",
      "00554\t\n",
      "00555\t#if defined(NPY_UINT32)\n",
      "00556\tNPY_UINT32,\n",
      "00557\t#endif\n",
      "00558\t\n",
      "00559\t#if defined(NPY_UINT64)\n",
      "00560\tNPY_UINT64,\n",
      "00561\t#endif\n",
      "00562\t\n",
      "00563\t#if defined(NPY_UINT128)\n",
      "00564\tNPY_UINT128,\n",
      "00565\t#endif\n",
      "00566\t\n",
      "00567\t#if defined(NPY_UINT256)\n",
      "00568\tNPY_UINT256,\n",
      "00569\t#endif\n",
      "00570\t\n",
      "00571\t#if defined(NPY_FLOAT16)\n",
      "00572\tNPY_FLOAT16,\n",
      "00573\t#endif\n",
      "00574\t\n",
      "00575\t#if defined(NPY_FLOAT32)\n",
      "00576\tNPY_FLOAT32,\n",
      "00577\t#endif\n",
      "00578\t\n",
      "00579\t#if defined(NPY_FLOAT64)\n",
      "00580\tNPY_FLOAT64,\n",
      "00581\t#endif\n",
      "00582\t\n",
      "00583\t#if defined(NPY_FLOAT80)\n",
      "00584\tNPY_FLOAT80,\n",
      "00585\t#endif\n",
      "00586\t\n",
      "00587\t#if defined(NPY_FLOAT96)\n",
      "00588\tNPY_FLOAT96,\n",
      "00589\t#endif\n",
      "00590\t\n",
      "00591\t#if defined(NPY_FLOAT128)\n",
      "00592\tNPY_FLOAT128,\n",
      "00593\t#endif\n",
      "00594\t\n",
      "00595\t#if defined(NPY_FLOAT256)\n",
      "00596\tNPY_FLOAT256,\n",
      "00597\t#endif\n",
      "00598\t\n",
      "00599\t#if defined(NPY_COMPLEX32)\n",
      "00600\tNPY_COMPLEX32,\n",
      "00601\t#endif\n",
      "00602\t\n",
      "00603\t#if defined(NPY_COMPLEX64)\n",
      "00604\tNPY_COMPLEX64,\n",
      "00605\t#endif\n",
      "00606\t\n",
      "00607\t#if defined(NPY_COMPLEX128)\n",
      "00608\tNPY_COMPLEX128,\n",
      "00609\t#endif\n",
      "00610\t\n",
      "00611\t#if defined(NPY_COMPLEX160)\n",
      "00612\tNPY_COMPLEX160,\n",
      "00613\t#endif\n",
      "00614\t\n",
      "00615\t#if defined(NPY_COMPLEX192)\n",
      "00616\tNPY_COMPLEX192,\n",
      "00617\t#endif\n",
      "00618\t\n",
      "00619\t#if defined(NPY_COMPLEX512)\n",
      "00620\tNPY_COMPLEX512,\n",
      "00621\t#endif\n",
      "00622\t-1000};\n",
      "00623\tstatic int\n",
      "00624\tmap_increment(PyArrayMapIterObject *mit, PyObject *op,\n",
      "00625\t              inplace_map_binop add_inplace, int inc_or_set)\n",
      "00626\t{\n",
      "00627\t    PyArrayObject *arr = NULL;\n",
      "00628\t    PyArrayIterObject *it;\n",
      "00629\t    PyArray_Descr *descr;\n",
      "00630\t    if (mit->ait == NULL) {\n",
      "00631\t        return -1;\n",
      "00632\t    }\n",
      "00633\t    descr = PyArray_DESCR(mit->ait->ao);\n",
      "00634\t    Py_INCREF(descr);\n",
      "00635\t    arr = (PyArrayObject *)PyArray_FromAny(op, descr,\n",
      "00636\t                                0, 0, NPY_ARRAY_FORCECAST, NULL);\n",
      "00637\t    if (arr == NULL) {\n",
      "00638\t        return -1;\n",
      "00639\t    }\n",
      "00640\t    if ((mit->subspace != NULL) && (mit->consec)) {\n",
      "00641\t        PyArray_MapIterSwapAxes(mit, (PyArrayObject **)&arr, 0);\n",
      "00642\t        if (arr == NULL) {\n",
      "00643\t            return -1;\n",
      "00644\t        }\n",
      "00645\t    }\n",
      "00646\t    it = (PyArrayIterObject*)\n",
      "00647\t            PyArray_BroadcastToShape((PyObject*)arr, mit->dimensions, mit->nd);\n",
      "00648\t    if (it  == NULL) {\n",
      "00649\t        Py_DECREF(arr);\n",
      "00650\t        return -1;\n",
      "00651\t    }\n",
      "00652\t\n",
      "00653\t    (*add_inplace)(mit, it, inc_or_set);\n",
      "00654\t\n",
      "00655\t    Py_DECREF(arr);\n",
      "00656\t    Py_DECREF(it);\n",
      "00657\t    return 0;\n",
      "00658\t}\n",
      "00659\t\n",
      "00660\t\n",
      "00661\tstatic PyObject *\n",
      "00662\tinplace_increment(PyObject *dummy, PyObject *args)\n",
      "00663\t{\n",
      "00664\t    PyObject *arg_a = NULL, *index=NULL, *inc=NULL;\n",
      "00665\t    int inc_or_set = 1;\n",
      "00666\t    PyArrayObject *a;\n",
      "00667\t    inplace_map_binop add_inplace = NULL;\n",
      "00668\t    int type_number = -1;\n",
      "00669\t    int i = 0;\n",
      "00670\t    PyArrayMapIterObject * mit;\n",
      "00671\t\n",
      "00672\t    if (!PyArg_ParseTuple(args, \"OOO|i\", &arg_a, &index,\n",
      "00673\t            &inc, &inc_or_set)) {\n",
      "00674\t        return NULL;\n",
      "00675\t    }\n",
      "00676\t    if (!PyArray_Check(arg_a)) {\n",
      "00677\t        PyErr_SetString(PyExc_ValueError,\n",
      "00678\t                        \"needs an ndarray as first argument\");\n",
      "00679\t        return NULL;\n",
      "00680\t    }\n",
      "00681\t\n",
      "00682\t    a = (PyArrayObject *) arg_a;\n",
      "00683\t\n",
      "00684\t    if (PyArray_FailUnlessWriteable(a, \"input/output array\") < 0) {\n",
      "00685\t        return NULL;\n",
      "00686\t    }\n",
      "00687\t\n",
      "00688\t    if (PyArray_NDIM(a) == 0) {\n",
      "00689\t        PyErr_SetString(PyExc_IndexError, \"0-d arrays can't be indexed.\");\n",
      "00690\t        return NULL;\n",
      "00691\t    }\n",
      "00692\t    type_number = PyArray_TYPE(a);\n",
      "00693\t\n",
      "00694\t\n",
      "00695\t\n",
      "00696\t    while (type_numbers[i] >= 0 && addition_funcs[i] != NULL){\n",
      "00697\t        if (type_number == type_numbers[i]) {\n",
      "00698\t            add_inplace = addition_funcs[i];\n",
      "00699\t            break;\n",
      "00700\t        }\n",
      "00701\t        i++ ;\n",
      "00702\t    }\n",
      "00703\t\n",
      "00704\t    if (add_inplace == NULL) {\n",
      "00705\t        PyErr_SetString(PyExc_TypeError, \"unsupported type for a\");\n",
      "00706\t        return NULL;\n",
      "00707\t    }\n",
      "00708\t    mit = (PyArrayMapIterObject *) PyArray_MapIterArray(a, index);\n",
      "00709\t    if (mit == NULL) {\n",
      "00710\t        goto fail;\n",
      "00711\t    }\n",
      "00712\t    if (map_increment(mit, inc, add_inplace, inc_or_set) != 0) {\n",
      "00713\t        goto fail;\n",
      "00714\t    }\n",
      "00715\t\n",
      "00716\t    Py_DECREF(mit);\n",
      "00717\t\n",
      "00718\t    Py_INCREF(Py_None);\n",
      "00719\t    return Py_None;\n",
      "00720\t\n",
      "00721\tfail:\n",
      "00722\t    Py_XDECREF(mit);\n",
      "00723\t\n",
      "00724\t    return NULL;\n",
      "00725\t}\n",
      "00726\t        #endif\n",
      "00727\tstatic PyMethodDef CutilsExtMethods[] = {\n",
      "00728\t            {\"run_cthunk\",  run_cthunk, METH_VARARGS|METH_KEYWORDS,\n",
      "00729\t             \"Run a theano cthunk.\"},\n",
      "00730\t            #if NPY_API_VERSION >= 0x00000008\n",
      "00731\t            {\"inplace_increment\",  inplace_increment,\n",
      "00732\t              METH_VARARGS,\n",
      "00733\t             \"increments a numpy array inplace at the passed indexes.\"},\n",
      "00734\t            #endif\n",
      "00735\t            {NULL, NULL, 0, NULL}        /* Sentinel */\n",
      "00736\t        };\n",
      "00737\t        static struct PyModuleDef moduledef = {\n",
      "00738\t            PyModuleDef_HEAD_INIT,\n",
      "00739\t            \"cutils_ext\",\n",
      "00740\t            NULL,\n",
      "00741\t            -1,\n",
      "00742\t            CutilsExtMethods,\n",
      "00743\t        };\n",
      "00744\t\n",
      "00745\t        PyMODINIT_FUNC\n",
      "00746\t        PyInit_cutils_ext(void) {\n",
      "00747\t            import_array();\n",
      "00748\t            return PyModule_Create(&moduledef);\n",
      "00749\t        }\n",
      "00750\t        }\n",
      "00751\t        \n",
      "Problem occurred during compilation with the command line below:\n",
      "\"I:\\ML\\Anaconda3\\envs\\dlwin36\\Library\\mingw-w64\\bin\\g++.exe\" -shared -g -DNPY_NO_DEPRECATED_API=NPY_1_7_API_VERSION -m64 -DMS_WIN64 -I\"I:\\ML\\Anaconda3\\envs\\dlwin36\\lib\\site-packages\\numpy\\core\\include\" -I\"I:\\ML\\Anaconda3\\envs\\dlwin36\\include\" -I\"I:\\ML\\Anaconda3\\envs\\dlwin36\\lib\\site-packages\\theano\\gof\" -L\"I:\\ML\\Anaconda3\\envs\\dlwin36\\libs\" -L\"I:\\ML\\Anaconda3\\envs\\dlwin36\" -o C:\\Users\\Administrator\\AppData\\Local\\Theano\\compiledir_Windows-10-10.0.16299-SP0-Intel64_Family_6_Model_60_Stepping_3_GenuineIntel-3.6.2-64\\cutils_ext\\cutils_ext.pyd C:\\Users\\Administrator\\AppData\\Local\\Theano\\compiledir_Windows-10-10.0.16299-SP0-Intel64_Family_6_Model_60_Stepping_3_GenuineIntel-3.6.2-64\\cutils_ext\\mod.cpp -lpython36\n"
     ]
    },
    {
     "ename": "Exception",
     "evalue": "Compilation failed (return status=1): I:/ML/Anaconda3/envs/dlwin36/Library/mingw-w64/bin/../lib/gcc/x86_64-w64-mingw32/5.3.0/../../../../x86_64-w64-mingw32/bin/ld.exe: cannot open output file C:\\Users\\Administrator\\AppData\\Local\\Theano\\compiledir_Windows-10-10.0.16299-SP0-Intel64_Family_6_Model_60_Stepping_3_GenuineIntel-3.6.2-64\\cutils_ext\\cutils_ext.pyd: Permission denied\r. collect2.exe: error: ld returned 1 exit status\r. ",
     "output_type": "error",
     "traceback": [
      "\u001b[1;31m---------------------------------------------------------------------------\u001b[0m",
      "\u001b[1;31mImportError\u001b[0m                               Traceback (most recent call last)",
      "\u001b[1;32mI:\\ML\\Anaconda3\\envs\\dlwin36\\lib\\site-packages\\theano\\gof\\cutils.py\u001b[0m in \u001b[0;36m<module>\u001b[1;34m()\u001b[0m\n\u001b[0;32m    305\u001b[0m     \u001b[1;32mtry\u001b[0m\u001b[1;33m:\u001b[0m\u001b[1;33m\u001b[0m\u001b[0m\n\u001b[1;32m--> 306\u001b[1;33m         \u001b[1;32mfrom\u001b[0m \u001b[0mcutils_ext\u001b[0m\u001b[1;33m.\u001b[0m\u001b[0mcutils_ext\u001b[0m \u001b[1;32mimport\u001b[0m \u001b[1;33m*\u001b[0m  \u001b[1;31m# noqa\u001b[0m\u001b[1;33m\u001b[0m\u001b[0m\n\u001b[0m\u001b[0;32m    307\u001b[0m     \u001b[1;32mexcept\u001b[0m \u001b[0mImportError\u001b[0m\u001b[1;33m:\u001b[0m\u001b[1;33m\u001b[0m\u001b[0m\n",
      "\u001b[1;31mImportError\u001b[0m: numpy.core.multiarray failed to import",
      "\nDuring handling of the above exception, another exception occurred:\n",
      "\u001b[1;31mImportError\u001b[0m                               Traceback (most recent call last)",
      "\u001b[1;32mI:\\ML\\Anaconda3\\envs\\dlwin36\\lib\\site-packages\\theano\\gof\\cutils.py\u001b[0m in \u001b[0;36m<module>\u001b[1;34m()\u001b[0m\n\u001b[0;32m    316\u001b[0m                 \u001b[1;31m# and when we receive the lock\u001b[0m\u001b[1;33m\u001b[0m\u001b[1;33m\u001b[0m\u001b[0m\n\u001b[1;32m--> 317\u001b[1;33m                 \u001b[1;32mfrom\u001b[0m \u001b[0mcutils_ext\u001b[0m\u001b[1;33m.\u001b[0m\u001b[0mcutils_ext\u001b[0m \u001b[1;32mimport\u001b[0m \u001b[1;33m*\u001b[0m  \u001b[1;31m# noqa\u001b[0m\u001b[1;33m\u001b[0m\u001b[0m\n\u001b[0m\u001b[0;32m    318\u001b[0m             \u001b[1;32mexcept\u001b[0m \u001b[0mImportError\u001b[0m\u001b[1;33m:\u001b[0m\u001b[1;33m\u001b[0m\u001b[0m\n",
      "\u001b[1;31mImportError\u001b[0m: numpy.core.multiarray failed to import",
      "\nDuring handling of the above exception, another exception occurred:\n",
      "\u001b[1;31mException\u001b[0m                                 Traceback (most recent call last)",
      "\u001b[1;32m<ipython-input-1-d2d999770bb2>\u001b[0m in \u001b[0;36m<module>\u001b[1;34m()\u001b[0m\n\u001b[1;32m----> 1\u001b[1;33m \u001b[1;32mfrom\u001b[0m \u001b[0mtheano\u001b[0m\u001b[1;33m.\u001b[0m\u001b[0msandbox\u001b[0m \u001b[1;32mimport\u001b[0m \u001b[0mcuda\u001b[0m\u001b[1;33m\u001b[0m\u001b[0m\n\u001b[0m\u001b[0;32m      2\u001b[0m \u001b[0mcuda\u001b[0m\u001b[1;33m.\u001b[0m\u001b[0muse\u001b[0m\u001b[1;33m(\u001b[0m\u001b[1;34m'gpu2'\u001b[0m\u001b[1;33m)\u001b[0m\u001b[1;33m\u001b[0m\u001b[0m\n",
      "\u001b[1;32mI:\\ML\\Anaconda3\\envs\\dlwin36\\lib\\site-packages\\theano\\__init__.py\u001b[0m in \u001b[0;36m<module>\u001b[1;34m()\u001b[0m\n\u001b[0;32m     78\u001b[0m \u001b[1;32mfrom\u001b[0m \u001b[0mtheano\u001b[0m\u001b[1;33m.\u001b[0m\u001b[0mprinting\u001b[0m \u001b[1;32mimport\u001b[0m \u001b[0mpprint\u001b[0m\u001b[1;33m,\u001b[0m \u001b[0mpp\u001b[0m\u001b[1;33m\u001b[0m\u001b[0m\n\u001b[0;32m     79\u001b[0m \u001b[1;33m\u001b[0m\u001b[0m\n\u001b[1;32m---> 80\u001b[1;33m from theano.scan_module import (scan, map, reduce, foldl, foldr, clone,\n\u001b[0m\u001b[0;32m     81\u001b[0m                                 scan_checkpoints)\n\u001b[0;32m     82\u001b[0m \u001b[1;33m\u001b[0m\u001b[0m\n",
      "\u001b[1;32mI:\\ML\\Anaconda3\\envs\\dlwin36\\lib\\site-packages\\theano\\scan_module\\__init__.py\u001b[0m in \u001b[0;36m<module>\u001b[1;34m()\u001b[0m\n\u001b[0;32m     39\u001b[0m \u001b[0m__contact__\u001b[0m \u001b[1;33m=\u001b[0m \u001b[1;34m\"Razvan Pascanu <r.pascanu@gmail>\"\u001b[0m\u001b[1;33m\u001b[0m\u001b[0m\n\u001b[0;32m     40\u001b[0m \u001b[1;33m\u001b[0m\u001b[0m\n\u001b[1;32m---> 41\u001b[1;33m \u001b[1;32mfrom\u001b[0m \u001b[0mtheano\u001b[0m\u001b[1;33m.\u001b[0m\u001b[0mscan_module\u001b[0m \u001b[1;32mimport\u001b[0m \u001b[0mscan_opt\u001b[0m\u001b[1;33m\u001b[0m\u001b[0m\n\u001b[0m\u001b[0;32m     42\u001b[0m \u001b[1;32mfrom\u001b[0m \u001b[0mtheano\u001b[0m\u001b[1;33m.\u001b[0m\u001b[0mscan_module\u001b[0m\u001b[1;33m.\u001b[0m\u001b[0mscan\u001b[0m \u001b[1;32mimport\u001b[0m \u001b[0mscan\u001b[0m\u001b[1;33m\u001b[0m\u001b[0m\n\u001b[0;32m     43\u001b[0m \u001b[1;32mfrom\u001b[0m \u001b[0mtheano\u001b[0m\u001b[1;33m.\u001b[0m\u001b[0mscan_module\u001b[0m\u001b[1;33m.\u001b[0m\u001b[0mscan_checkpoints\u001b[0m \u001b[1;32mimport\u001b[0m \u001b[0mscan_checkpoints\u001b[0m\u001b[1;33m\u001b[0m\u001b[0m\n",
      "\u001b[1;32mI:\\ML\\Anaconda3\\envs\\dlwin36\\lib\\site-packages\\theano\\scan_module\\scan_opt.py\u001b[0m in \u001b[0;36m<module>\u001b[1;34m()\u001b[0m\n\u001b[0;32m     58\u001b[0m \u001b[1;33m\u001b[0m\u001b[0m\n\u001b[0;32m     59\u001b[0m \u001b[1;32mimport\u001b[0m \u001b[0mtheano\u001b[0m\u001b[1;33m\u001b[0m\u001b[0m\n\u001b[1;32m---> 60\u001b[1;33m \u001b[1;32mfrom\u001b[0m \u001b[0mtheano\u001b[0m \u001b[1;32mimport\u001b[0m \u001b[0mtensor\u001b[0m\u001b[1;33m,\u001b[0m \u001b[0mscalar\u001b[0m\u001b[1;33m\u001b[0m\u001b[0m\n\u001b[0m\u001b[0;32m     61\u001b[0m \u001b[1;32mfrom\u001b[0m \u001b[0mtheano\u001b[0m\u001b[1;33m.\u001b[0m\u001b[0mtensor\u001b[0m \u001b[1;32mimport\u001b[0m \u001b[0mopt\u001b[0m\u001b[1;33m,\u001b[0m \u001b[0mget_scalar_constant_value\u001b[0m\u001b[1;33m,\u001b[0m \u001b[0mAlloc\u001b[0m\u001b[1;33m,\u001b[0m \u001b[0mAllocEmpty\u001b[0m\u001b[1;33m\u001b[0m\u001b[0m\n\u001b[0;32m     62\u001b[0m \u001b[1;32mfrom\u001b[0m \u001b[0mtheano\u001b[0m \u001b[1;32mimport\u001b[0m \u001b[0mgof\u001b[0m\u001b[1;33m\u001b[0m\u001b[0m\n",
      "\u001b[1;32mI:\\ML\\Anaconda3\\envs\\dlwin36\\lib\\site-packages\\theano\\tensor\\__init__.py\u001b[0m in \u001b[0;36m<module>\u001b[1;34m()\u001b[0m\n\u001b[0;32m      7\u001b[0m \u001b[1;33m\u001b[0m\u001b[0m\n\u001b[0;32m      8\u001b[0m \u001b[1;32mfrom\u001b[0m \u001b[0mtheano\u001b[0m\u001b[1;33m.\u001b[0m\u001b[0mtensor\u001b[0m\u001b[1;33m.\u001b[0m\u001b[0mbasic\u001b[0m \u001b[1;32mimport\u001b[0m \u001b[1;33m*\u001b[0m\u001b[1;33m\u001b[0m\u001b[0m\n\u001b[1;32m----> 9\u001b[1;33m \u001b[1;32mfrom\u001b[0m \u001b[0mtheano\u001b[0m\u001b[1;33m.\u001b[0m\u001b[0mtensor\u001b[0m\u001b[1;33m.\u001b[0m\u001b[0msubtensor\u001b[0m \u001b[1;32mimport\u001b[0m \u001b[1;33m*\u001b[0m\u001b[1;33m\u001b[0m\u001b[0m\n\u001b[0m\u001b[0;32m     10\u001b[0m \u001b[1;32mfrom\u001b[0m \u001b[0mtheano\u001b[0m\u001b[1;33m.\u001b[0m\u001b[0mtensor\u001b[0m\u001b[1;33m.\u001b[0m\u001b[0mtype_other\u001b[0m \u001b[1;32mimport\u001b[0m \u001b[1;33m*\u001b[0m\u001b[1;33m\u001b[0m\u001b[0m\n\u001b[0;32m     11\u001b[0m from theano.tensor.var import (\n",
      "\u001b[1;32mI:\\ML\\Anaconda3\\envs\\dlwin36\\lib\\site-packages\\theano\\tensor\\subtensor.py\u001b[0m in \u001b[0;36m<module>\u001b[1;34m()\u001b[0m\n\u001b[0;32m     24\u001b[0m \u001b[1;33m\u001b[0m\u001b[0m\n\u001b[0;32m     25\u001b[0m \u001b[1;32mif\u001b[0m \u001b[0mconfig\u001b[0m\u001b[1;33m.\u001b[0m\u001b[0mcxx\u001b[0m\u001b[1;33m:\u001b[0m\u001b[1;33m\u001b[0m\u001b[0m\n\u001b[1;32m---> 26\u001b[1;33m     \u001b[1;32mimport\u001b[0m \u001b[0mtheano\u001b[0m\u001b[1;33m.\u001b[0m\u001b[0mgof\u001b[0m\u001b[1;33m.\u001b[0m\u001b[0mcutils\u001b[0m  \u001b[1;31m# needed to import cutils_ext\u001b[0m\u001b[1;33m\u001b[0m\u001b[0m\n\u001b[0m\u001b[0;32m     27\u001b[0m     \u001b[1;32mfrom\u001b[0m \u001b[0mcutils_ext\u001b[0m\u001b[1;33m.\u001b[0m\u001b[0mcutils_ext\u001b[0m \u001b[1;32mimport\u001b[0m \u001b[0minplace_increment\u001b[0m\u001b[1;33m\u001b[0m\u001b[0m\n\u001b[0;32m     28\u001b[0m \u001b[1;33m\u001b[0m\u001b[0m\n",
      "\u001b[1;32mI:\\ML\\Anaconda3\\envs\\dlwin36\\lib\\site-packages\\theano\\gof\\cutils.py\u001b[0m in \u001b[0;36m<module>\u001b[1;34m()\u001b[0m\n\u001b[0;32m    318\u001b[0m             \u001b[1;32mexcept\u001b[0m \u001b[0mImportError\u001b[0m\u001b[1;33m:\u001b[0m\u001b[1;33m\u001b[0m\u001b[0m\n\u001b[0;32m    319\u001b[0m \u001b[1;33m\u001b[0m\u001b[0m\n\u001b[1;32m--> 320\u001b[1;33m                 \u001b[0mcompile_cutils\u001b[0m\u001b[1;33m(\u001b[0m\u001b[1;33m)\u001b[0m\u001b[1;33m\u001b[0m\u001b[0m\n\u001b[0m\u001b[0;32m    321\u001b[0m                 \u001b[1;32mfrom\u001b[0m \u001b[0mcutils_ext\u001b[0m\u001b[1;33m.\u001b[0m\u001b[0mcutils_ext\u001b[0m \u001b[1;32mimport\u001b[0m \u001b[1;33m*\u001b[0m  \u001b[1;31m# noqa\u001b[0m\u001b[1;33m\u001b[0m\u001b[0m\n\u001b[0;32m    322\u001b[0m \u001b[1;33m\u001b[0m\u001b[0m\n",
      "\u001b[1;32mI:\\ML\\Anaconda3\\envs\\dlwin36\\lib\\site-packages\\theano\\gof\\cutils.py\u001b[0m in \u001b[0;36mcompile_cutils\u001b[1;34m()\u001b[0m\n\u001b[0;32m    283\u001b[0m     \u001b[0margs\u001b[0m \u001b[1;33m=\u001b[0m \u001b[0mcmodule\u001b[0m\u001b[1;33m.\u001b[0m\u001b[0mGCC_compiler\u001b[0m\u001b[1;33m.\u001b[0m\u001b[0mcompile_args\u001b[0m\u001b[1;33m(\u001b[0m\u001b[0mmarch_flags\u001b[0m\u001b[1;33m=\u001b[0m\u001b[1;32mFalse\u001b[0m\u001b[1;33m)\u001b[0m\u001b[1;33m\u001b[0m\u001b[0m\n\u001b[0;32m    284\u001b[0m     cmodule.GCC_compiler.compile_str('cutils_ext', code, location=loc,\n\u001b[1;32m--> 285\u001b[1;33m                                      preargs=args)\n\u001b[0m\u001b[0;32m    286\u001b[0m \u001b[1;33m\u001b[0m\u001b[0m\n\u001b[0;32m    287\u001b[0m \u001b[1;32mtry\u001b[0m\u001b[1;33m:\u001b[0m\u001b[1;33m\u001b[0m\u001b[0m\n",
      "\u001b[1;32mI:\\ML\\Anaconda3\\envs\\dlwin36\\lib\\site-packages\\theano\\gof\\cmodule.py\u001b[0m in \u001b[0;36mcompile_str\u001b[1;34m(module_name, src_code, location, include_dirs, lib_dirs, libs, preargs, py_module, hide_symbols)\u001b[0m\n\u001b[0;32m   2314\u001b[0m             \u001b[1;31m# difficult to read.\u001b[0m\u001b[1;33m\u001b[0m\u001b[1;33m\u001b[0m\u001b[0m\n\u001b[0;32m   2315\u001b[0m             raise Exception('Compilation failed (return status=%s): %s' %\n\u001b[1;32m-> 2316\u001b[1;33m                             (status, compile_stderr.replace('\\n', '. ')))\n\u001b[0m\u001b[0;32m   2317\u001b[0m         \u001b[1;32melif\u001b[0m \u001b[0mconfig\u001b[0m\u001b[1;33m.\u001b[0m\u001b[0mcmodule\u001b[0m\u001b[1;33m.\u001b[0m\u001b[0mcompilation_warning\u001b[0m \u001b[1;32mand\u001b[0m \u001b[0mcompile_stderr\u001b[0m\u001b[1;33m:\u001b[0m\u001b[1;33m\u001b[0m\u001b[0m\n\u001b[0;32m   2318\u001b[0m             \u001b[1;31m# Print errors just below the command line.\u001b[0m\u001b[1;33m\u001b[0m\u001b[1;33m\u001b[0m\u001b[0m\n",
      "\u001b[1;31mException\u001b[0m: Compilation failed (return status=1): I:/ML/Anaconda3/envs/dlwin36/Library/mingw-w64/bin/../lib/gcc/x86_64-w64-mingw32/5.3.0/../../../../x86_64-w64-mingw32/bin/ld.exe: cannot open output file C:\\Users\\Administrator\\AppData\\Local\\Theano\\compiledir_Windows-10-10.0.16299-SP0-Intel64_Family_6_Model_60_Stepping_3_GenuineIntel-3.6.2-64\\cutils_ext\\cutils_ext.pyd: Permission denied\r. collect2.exe: error: ld returned 1 exit status\r. "
     ]
    }
   ],
   "source": [
    "from theano.sandbox import cuda\n",
    "cuda.use('gpu2')"
   ]
  },
  {
   "cell_type": "code",
   "execution_count": null,
   "metadata": {
    "collapsed": true
   },
   "outputs": [],
   "source": [
    "from tensorflow import"
   ]
  },
  {
   "cell_type": "code",
   "execution_count": 2,
   "metadata": {},
   "outputs": [
    {
     "name": "stderr",
     "output_type": "stream",
     "text": [
      "Using Theano backend.\n"
     ]
    }
   ],
   "source": [
    "%matplotlib inline\n",
    "import utils; reload(utils)\n",
    "from utils import *\n",
    "from __future__ import division, print_function"
   ]
  },
  {
   "cell_type": "markdown",
   "metadata": {
    "heading_collapsed": true
   },
   "source": [
    "## Setup"
   ]
  },
  {
   "cell_type": "code",
   "execution_count": 3,
   "metadata": {
    "collapsed": true,
    "hidden": true
   },
   "outputs": [],
   "source": [
    "batch_size=64"
   ]
  },
  {
   "cell_type": "code",
   "execution_count": 4,
   "metadata": {
    "hidden": true
   },
   "outputs": [
    {
     "data": {
      "text/plain": [
       "((60000, 28, 28), (60000,), (10000, 28, 28), (10000,))"
      ]
     },
     "execution_count": 4,
     "metadata": {},
     "output_type": "execute_result"
    }
   ],
   "source": [
    "from keras.datasets import mnist\n",
    "(X_train, y_train), (X_test, y_test) = mnist.load_data()\n",
    "(X_train.shape, y_train.shape, X_test.shape, y_test.shape)"
   ]
  },
  {
   "cell_type": "code",
   "execution_count": 5,
   "metadata": {
    "hidden": true
   },
   "outputs": [],
   "source": [
    "X_test = np.expand_dims(X_test,1)\n",
    "X_train = np.expand_dims(X_train,1)"
   ]
  },
  {
   "cell_type": "code",
   "execution_count": 6,
   "metadata": {
    "hidden": true
   },
   "outputs": [
    {
     "data": {
      "text/plain": [
       "(60000, 1, 28, 28)"
      ]
     },
     "execution_count": 6,
     "metadata": {},
     "output_type": "execute_result"
    }
   ],
   "source": [
    "X_train.shape"
   ]
  },
  {
   "cell_type": "code",
   "execution_count": 7,
   "metadata": {
    "hidden": true
   },
   "outputs": [
    {
     "data": {
      "text/plain": [
       "array([5, 0, 4, 1, 9], dtype=uint8)"
      ]
     },
     "execution_count": 7,
     "metadata": {},
     "output_type": "execute_result"
    }
   ],
   "source": [
    "y_train[:5]"
   ]
  },
  {
   "cell_type": "code",
   "execution_count": 8,
   "metadata": {
    "collapsed": true,
    "hidden": true
   },
   "outputs": [],
   "source": [
    "y_train = onehot(y_train)\n",
    "y_test = onehot(y_test)"
   ]
  },
  {
   "cell_type": "code",
   "execution_count": 9,
   "metadata": {
    "hidden": true
   },
   "outputs": [
    {
     "data": {
      "text/plain": [
       "array([[ 0.,  0.,  0.,  0.,  0.,  1.,  0.,  0.,  0.,  0.],\n",
       "       [ 1.,  0.,  0.,  0.,  0.,  0.,  0.,  0.,  0.,  0.],\n",
       "       [ 0.,  0.,  0.,  0.,  1.,  0.,  0.,  0.,  0.,  0.],\n",
       "       [ 0.,  1.,  0.,  0.,  0.,  0.,  0.,  0.,  0.,  0.],\n",
       "       [ 0.,  0.,  0.,  0.,  0.,  0.,  0.,  0.,  0.,  1.]])"
      ]
     },
     "execution_count": 9,
     "metadata": {},
     "output_type": "execute_result"
    }
   ],
   "source": [
    "y_train[:5]"
   ]
  },
  {
   "cell_type": "code",
   "execution_count": 10,
   "metadata": {
    "hidden": true
   },
   "outputs": [],
   "source": [
    "mean_px = X_train.mean().astype(np.float32)\n",
    "std_px = X_train.std().astype(np.float32)"
   ]
  },
  {
   "cell_type": "code",
   "execution_count": 11,
   "metadata": {
    "collapsed": true,
    "hidden": true
   },
   "outputs": [],
   "source": [
    "def norm_input(x): return (x-mean_px)/std_px"
   ]
  },
  {
   "cell_type": "markdown",
   "metadata": {
    "heading_collapsed": true
   },
   "source": [
    "## Linear model"
   ]
  },
  {
   "cell_type": "code",
   "execution_count": 160,
   "metadata": {
    "hidden": true
   },
   "outputs": [],
   "source": [
    "def get_lin_model():\n",
    "    model = Sequential([\n",
    "        Lambda(norm_input, input_shape=(1,28,28)),\n",
    "        Flatten(),\n",
    "        Dense(10, activation='softmax')\n",
    "        ])\n",
    "    model.compile(Adam(), loss='categorical_crossentropy', metrics=['accuracy'])\n",
    "    return model"
   ]
  },
  {
   "cell_type": "code",
   "execution_count": 161,
   "metadata": {
    "hidden": true
   },
   "outputs": [],
   "source": [
    "lm = get_lin_model()"
   ]
  },
  {
   "cell_type": "code",
   "execution_count": 162,
   "metadata": {
    "collapsed": true,
    "hidden": true
   },
   "outputs": [],
   "source": [
    "gen = image.ImageDataGenerator()\n",
    "batches = gen.flow(X_train, y_train, batch_size=64)\n",
    "test_batches = gen.flow(X_test, y_test, batch_size=64)"
   ]
  },
  {
   "cell_type": "code",
   "execution_count": 164,
   "metadata": {
    "hidden": true
   },
   "outputs": [
    {
     "name": "stdout",
     "output_type": "stream",
     "text": [
      "Epoch 1/1\n",
      "60000/60000 [==============================] - 5s - loss: 0.4175 - acc: 0.8771 - val_loss: 0.2958 - val_acc: 0.9177\n"
     ]
    },
    {
     "data": {
      "text/plain": [
       "<keras.callbacks.History at 0x7f377ef87790>"
      ]
     },
     "execution_count": 164,
     "metadata": {},
     "output_type": "execute_result"
    }
   ],
   "source": [
    "lm.fit_generator(batches, batches.N, nb_epoch=1, \n",
    "                    validation_data=test_batches, nb_val_samples=test_batches.N)"
   ]
  },
  {
   "cell_type": "code",
   "execution_count": 167,
   "metadata": {
    "collapsed": true,
    "hidden": true
   },
   "outputs": [],
   "source": [
    "lm.optimizer.lr=0.1"
   ]
  },
  {
   "cell_type": "code",
   "execution_count": 169,
   "metadata": {
    "hidden": true
   },
   "outputs": [
    {
     "name": "stdout",
     "output_type": "stream",
     "text": [
      "Epoch 1/1\n",
      "60000/60000 [==============================] - 5s - loss: 0.2770 - acc: 0.9225 - val_loss: 0.2734 - val_acc: 0.9252\n"
     ]
    },
    {
     "data": {
      "text/plain": [
       "<keras.callbacks.History at 0x7f3782f7b710>"
      ]
     },
     "execution_count": 169,
     "metadata": {},
     "output_type": "execute_result"
    }
   ],
   "source": [
    "lm.fit_generator(batches, batches.N, nb_epoch=1, \n",
    "                    validation_data=test_batches, nb_val_samples=test_batches.N)"
   ]
  },
  {
   "cell_type": "code",
   "execution_count": 172,
   "metadata": {
    "collapsed": true,
    "hidden": true
   },
   "outputs": [],
   "source": [
    "lm.optimizer.lr=0.01"
   ]
  },
  {
   "cell_type": "code",
   "execution_count": 173,
   "metadata": {
    "hidden": true,
    "scrolled": true
   },
   "outputs": [
    {
     "name": "stdout",
     "output_type": "stream",
     "text": [
      "Epoch 1/4\n",
      "60000/60000 [==============================] - 5s - loss: 0.2710 - acc: 0.9241 - val_loss: 0.2858 - val_acc: 0.9216\n",
      "Epoch 2/4\n",
      "60000/60000 [==============================] - 5s - loss: 0.2667 - acc: 0.9249 - val_loss: 0.2764 - val_acc: 0.9242\n",
      "Epoch 3/4\n",
      "60000/60000 [==============================] - 4s - loss: 0.2707 - acc: 0.9249 - val_loss: 0.2759 - val_acc: 0.9219\n",
      "Epoch 4/4\n",
      "60000/60000 [==============================] - 4s - loss: 0.2603 - acc: 0.9267 - val_loss: 0.2810 - val_acc: 0.9240\n"
     ]
    },
    {
     "data": {
      "text/plain": [
       "<keras.callbacks.History at 0x7f3782f7b950>"
      ]
     },
     "execution_count": 173,
     "metadata": {},
     "output_type": "execute_result"
    }
   ],
   "source": [
    "lm.fit_generator(batches, batches.N, nb_epoch=4, \n",
    "                    validation_data=test_batches, nb_val_samples=test_batches.N)"
   ]
  },
  {
   "cell_type": "markdown",
   "metadata": {
    "heading_collapsed": true
   },
   "source": [
    "## Single dense layer"
   ]
  },
  {
   "cell_type": "code",
   "execution_count": 175,
   "metadata": {
    "hidden": true
   },
   "outputs": [],
   "source": [
    "def get_fc_model():\n",
    "    model = Sequential([\n",
    "        Lambda(norm_input, input_shape=(1,28,28)),\n",
    "        Flatten(),\n",
    "        Dense(512, activation='softmax'),\n",
    "        Dense(10, activation='softmax')\n",
    "        ])\n",
    "    model.compile(Adam(), loss='categorical_crossentropy', metrics=['accuracy'])\n",
    "    return model"
   ]
  },
  {
   "cell_type": "code",
   "execution_count": 182,
   "metadata": {
    "hidden": true
   },
   "outputs": [],
   "source": [
    "fc = get_fc_model()"
   ]
  },
  {
   "cell_type": "code",
   "execution_count": 183,
   "metadata": {
    "hidden": true
   },
   "outputs": [
    {
     "name": "stdout",
     "output_type": "stream",
     "text": [
      "Epoch 1/1\n",
      "60000/60000 [==============================] - 5s - loss: 1.5393 - acc: 0.8851 - val_loss: 1.0240 - val_acc: 0.9176\n"
     ]
    },
    {
     "data": {
      "text/plain": [
       "<keras.callbacks.History at 0x7f377d392250>"
      ]
     },
     "execution_count": 183,
     "metadata": {},
     "output_type": "execute_result"
    }
   ],
   "source": [
    "fc.fit_generator(batches, batches.N, nb_epoch=1, \n",
    "                    validation_data=test_batches, nb_val_samples=test_batches.N)"
   ]
  },
  {
   "cell_type": "code",
   "execution_count": 184,
   "metadata": {
    "collapsed": true,
    "hidden": true
   },
   "outputs": [],
   "source": [
    "fc.optimizer.lr=0.1"
   ]
  },
  {
   "cell_type": "code",
   "execution_count": 185,
   "metadata": {
    "hidden": true
   },
   "outputs": [
    {
     "name": "stdout",
     "output_type": "stream",
     "text": [
      "Epoch 1/4\n",
      "60000/60000 [==============================] - 5s - loss: 0.7502 - acc: 0.9241 - val_loss: 0.5514 - val_acc: 0.9290\n",
      "Epoch 2/4\n",
      "60000/60000 [==============================] - 5s - loss: 0.4507 - acc: 0.9338 - val_loss: 0.3896 - val_acc: 0.9321\n",
      "Epoch 3/4\n",
      "60000/60000 [==============================] - 5s - loss: 0.3507 - acc: 0.9357 - val_loss: 0.3417 - val_acc: 0.9306\n",
      "Epoch 4/4\n",
      "60000/60000 [==============================] - 5s - loss: 0.3069 - acc: 0.9374 - val_loss: 0.3091 - val_acc: 0.9325\n"
     ]
    },
    {
     "data": {
      "text/plain": [
       "<keras.callbacks.History at 0x7f377d1c6210>"
      ]
     },
     "execution_count": 185,
     "metadata": {},
     "output_type": "execute_result"
    }
   ],
   "source": [
    "fc.fit_generator(batches, batches.N, nb_epoch=4, \n",
    "                    validation_data=test_batches, nb_val_samples=test_batches.N)"
   ]
  },
  {
   "cell_type": "code",
   "execution_count": 187,
   "metadata": {
    "collapsed": true,
    "hidden": true
   },
   "outputs": [],
   "source": [
    "fc.optimizer.lr=0.01"
   ]
  },
  {
   "cell_type": "code",
   "execution_count": 189,
   "metadata": {
    "hidden": true,
    "scrolled": true
   },
   "outputs": [
    {
     "name": "stdout",
     "output_type": "stream",
     "text": [
      "Epoch 1/4\n",
      "60000/60000 [==============================] - 5s - loss: 0.2549 - acc: 0.9431 - val_loss: 0.2797 - val_acc: 0.9341\n",
      "Epoch 2/4\n",
      "60000/60000 [==============================] - 5s - loss: 0.2408 - acc: 0.9457 - val_loss: 0.2753 - val_acc: 0.9341\n",
      "Epoch 3/4\n",
      "60000/60000 [==============================] - 5s - loss: 0.2358 - acc: 0.9453 - val_loss: 0.2733 - val_acc: 0.9339\n",
      "Epoch 4/4\n",
      "60000/60000 [==============================] - 5s - loss: 0.2252 - acc: 0.9474 - val_loss: 0.2670 - val_acc: 0.9397\n"
     ]
    },
    {
     "data": {
      "text/plain": [
       "<keras.callbacks.History at 0x7f377d1c6850>"
      ]
     },
     "execution_count": 189,
     "metadata": {},
     "output_type": "execute_result"
    }
   ],
   "source": [
    "fc.fit_generator(batches, batches.N, nb_epoch=4, \n",
    "                    validation_data=test_batches, nb_val_samples=test_batches.N)"
   ]
  },
  {
   "cell_type": "markdown",
   "metadata": {
    "heading_collapsed": true
   },
   "source": [
    "## Basic 'VGG-style' CNN"
   ]
  },
  {
   "cell_type": "code",
   "execution_count": 14,
   "metadata": {
    "hidden": true
   },
   "outputs": [],
   "source": [
    "def get_model():\n",
    "    model = Sequential([\n",
    "        Lambda(norm_input, input_shape=(1,28,28)),\n",
    "        Convolution2D(32,3,3, activation='relu'),\n",
    "        Convolution2D(32,3,3, activation='relu'),\n",
    "        MaxPooling2D(),\n",
    "        Convolution2D(64,3,3, activation='relu'),\n",
    "        Convolution2D(64,3,3, activation='relu'),\n",
    "        MaxPooling2D(),\n",
    "        Flatten(),\n",
    "        Dense(512, activation='relu'),\n",
    "        Dense(10, activation='softmax')\n",
    "        ])\n",
    "    model.compile(Adam(), loss='categorical_crossentropy', metrics=['accuracy'])\n",
    "    return model"
   ]
  },
  {
   "cell_type": "code",
   "execution_count": 45,
   "metadata": {
    "collapsed": true,
    "hidden": true
   },
   "outputs": [],
   "source": [
    "model = get_model()"
   ]
  },
  {
   "cell_type": "code",
   "execution_count": 36,
   "metadata": {
    "hidden": true
   },
   "outputs": [
    {
     "name": "stdout",
     "output_type": "stream",
     "text": [
      "Epoch 1/1\n",
      "60000/60000 [==============================] - 6s - loss: 0.1097 - acc: 0.9664 - val_loss: 0.0396 - val_acc: 0.9863\n"
     ]
    },
    {
     "data": {
      "text/plain": [
       "<keras.callbacks.History at 0x7f380c53ffd0>"
      ]
     },
     "execution_count": 36,
     "metadata": {},
     "output_type": "execute_result"
    }
   ],
   "source": [
    "model.fit_generator(batches, batches.N, nb_epoch=1, \n",
    "                    validation_data=test_batches, nb_val_samples=test_batches.N)"
   ]
  },
  {
   "cell_type": "code",
   "execution_count": 37,
   "metadata": {
    "collapsed": true,
    "hidden": true
   },
   "outputs": [],
   "source": [
    "model.optimizer.lr=0.1"
   ]
  },
  {
   "cell_type": "code",
   "execution_count": 38,
   "metadata": {
    "hidden": true
   },
   "outputs": [
    {
     "name": "stdout",
     "output_type": "stream",
     "text": [
      "Epoch 1/1\n",
      "60000/60000 [==============================] - 7s - loss: 0.0353 - acc: 0.9889 - val_loss: 0.0291 - val_acc: 0.9902\n"
     ]
    },
    {
     "data": {
      "text/plain": [
       "<keras.callbacks.History at 0x7f3807ebbe10>"
      ]
     },
     "execution_count": 38,
     "metadata": {},
     "output_type": "execute_result"
    }
   ],
   "source": [
    "model.fit_generator(batches, batches.N, nb_epoch=1, \n",
    "                    validation_data=test_batches, nb_val_samples=test_batches.N)"
   ]
  },
  {
   "cell_type": "code",
   "execution_count": 39,
   "metadata": {
    "collapsed": true,
    "hidden": true
   },
   "outputs": [],
   "source": [
    "model.optimizer.lr=0.01"
   ]
  },
  {
   "cell_type": "code",
   "execution_count": 40,
   "metadata": {
    "hidden": true
   },
   "outputs": [
    {
     "name": "stdout",
     "output_type": "stream",
     "text": [
      "Epoch 1/8\n",
      "60000/60000 [==============================] - 6s - loss: 0.0232 - acc: 0.9929 - val_loss: 0.0207 - val_acc: 0.9935\n",
      "Epoch 2/8\n",
      "60000/60000 [==============================] - 6s - loss: 0.0193 - acc: 0.9935 - val_loss: 0.0252 - val_acc: 0.9919\n",
      "Epoch 3/8\n",
      "60000/60000 [==============================] - 6s - loss: 0.0155 - acc: 0.9949 - val_loss: 0.0298 - val_acc: 0.9919\n",
      "Epoch 4/8\n",
      "60000/60000 [==============================] - 6s - loss: 0.0133 - acc: 0.9958 - val_loss: 0.0313 - val_acc: 0.9913\n",
      "Epoch 5/8\n",
      "60000/60000 [==============================] - 6s - loss: 0.0095 - acc: 0.9970 - val_loss: 0.0327 - val_acc: 0.9913\n",
      "Epoch 6/8\n",
      "60000/60000 [==============================] - 6s - loss: 0.0107 - acc: 0.9966 - val_loss: 0.0301 - val_acc: 0.9906\n",
      "Epoch 7/8\n",
      "60000/60000 [==============================] - 7s - loss: 0.0070 - acc: 0.9979 - val_loss: 0.0269 - val_acc: 0.9938\n",
      "Epoch 8/8\n",
      "60000/60000 [==============================] - 6s - loss: 0.0082 - acc: 0.9975 - val_loss: 0.0261 - val_acc: 0.9926\n"
     ]
    },
    {
     "data": {
      "text/plain": [
       "<keras.callbacks.History at 0x7f3807ebbc90>"
      ]
     },
     "execution_count": 40,
     "metadata": {},
     "output_type": "execute_result"
    }
   ],
   "source": [
    "model.fit_generator(batches, batches.N, nb_epoch=8, \n",
    "                    validation_data=test_batches, nb_val_samples=test_batches.N)"
   ]
  },
  {
   "cell_type": "markdown",
   "metadata": {
    "heading_collapsed": true
   },
   "source": [
    "## Data augmentation"
   ]
  },
  {
   "cell_type": "code",
   "execution_count": 23,
   "metadata": {
    "hidden": true
   },
   "outputs": [],
   "source": [
    "model = get_model()"
   ]
  },
  {
   "cell_type": "code",
   "execution_count": 76,
   "metadata": {
    "collapsed": true,
    "hidden": true
   },
   "outputs": [],
   "source": [
    "gen = image.ImageDataGenerator(rotation_range=8, width_shift_range=0.08, shear_range=0.3,\n",
    "                               height_shift_range=0.08, zoom_range=0.08)\n",
    "batches = gen.flow(X_train, y_train, batch_size=64)\n",
    "test_batches = gen.flow(X_test, y_test, batch_size=64)"
   ]
  },
  {
   "cell_type": "code",
   "execution_count": 24,
   "metadata": {
    "hidden": true
   },
   "outputs": [
    {
     "name": "stdout",
     "output_type": "stream",
     "text": [
      "Epoch 1/1\n",
      "60000/60000 [==============================] - 7s - loss: 0.2064 - acc: 0.9360 - val_loss: 0.0643 - val_acc: 0.9778\n"
     ]
    },
    {
     "data": {
      "text/plain": [
       "<keras.callbacks.History at 0x7fa800c8d710>"
      ]
     },
     "execution_count": 24,
     "metadata": {},
     "output_type": "execute_result"
    }
   ],
   "source": [
    "model.fit_generator(batches, batches.N, nb_epoch=1, \n",
    "                    validation_data=test_batches, nb_val_samples=test_batches.N)"
   ]
  },
  {
   "cell_type": "code",
   "execution_count": 25,
   "metadata": {
    "collapsed": true,
    "hidden": true
   },
   "outputs": [],
   "source": [
    "model.optimizer.lr=0.1"
   ]
  },
  {
   "cell_type": "code",
   "execution_count": 26,
   "metadata": {
    "hidden": true
   },
   "outputs": [
    {
     "name": "stdout",
     "output_type": "stream",
     "text": [
      "Epoch 1/4\n",
      "60000/60000 [==============================] - 7s - loss: 0.0706 - acc: 0.9787 - val_loss: 0.0496 - val_acc: 0.9844\n",
      "Epoch 2/4\n",
      "60000/60000 [==============================] - 7s - loss: 0.0531 - acc: 0.9838 - val_loss: 0.0395 - val_acc: 0.9873\n",
      "Epoch 3/4\n",
      "60000/60000 [==============================] - 7s - loss: 0.0473 - acc: 0.9856 - val_loss: 0.0329 - val_acc: 0.9886\n",
      "Epoch 4/4\n",
      "60000/60000 [==============================] - 7s - loss: 0.0402 - acc: 0.9870 - val_loss: 0.0381 - val_acc: 0.9878\n"
     ]
    },
    {
     "data": {
      "text/plain": [
       "<keras.callbacks.History at 0x7fa8003268d0>"
      ]
     },
     "execution_count": 26,
     "metadata": {},
     "output_type": "execute_result"
    }
   ],
   "source": [
    "model.fit_generator(batches, batches.N, nb_epoch=4, \n",
    "                    validation_data=test_batches, nb_val_samples=test_batches.N)"
   ]
  },
  {
   "cell_type": "code",
   "execution_count": 27,
   "metadata": {
    "collapsed": true,
    "hidden": true
   },
   "outputs": [],
   "source": [
    "model.optimizer.lr=0.01"
   ]
  },
  {
   "cell_type": "code",
   "execution_count": 28,
   "metadata": {
    "hidden": true
   },
   "outputs": [
    {
     "name": "stdout",
     "output_type": "stream",
     "text": [
      "Epoch 1/8\n",
      "60000/60000 [==============================] - 7s - loss: 0.0381 - acc: 0.9887 - val_loss: 0.0295 - val_acc: 0.9908\n",
      "Epoch 2/8\n",
      "60000/60000 [==============================] - 7s - loss: 0.0340 - acc: 0.9893 - val_loss: 0.0266 - val_acc: 0.9918\n",
      "Epoch 3/8\n",
      "60000/60000 [==============================] - 7s - loss: 0.0318 - acc: 0.9903 - val_loss: 0.0400 - val_acc: 0.9877\n",
      "Epoch 4/8\n",
      "60000/60000 [==============================] - 7s - loss: 0.0322 - acc: 0.9899 - val_loss: 0.0264 - val_acc: 0.9922\n",
      "Epoch 5/8\n",
      "60000/60000 [==============================] - 7s - loss: 0.0281 - acc: 0.9910 - val_loss: 0.0266 - val_acc: 0.9911\n",
      "Epoch 6/8\n",
      "60000/60000 [==============================] - 7s - loss: 0.0283 - acc: 0.9909 - val_loss: 0.0238 - val_acc: 0.9922\n",
      "Epoch 7/8\n",
      "60000/60000 [==============================] - 7s - loss: 0.0277 - acc: 0.9917 - val_loss: 0.0314 - val_acc: 0.9911\n",
      "Epoch 8/8\n",
      "60000/60000 [==============================] - 6s - loss: 0.0251 - acc: 0.9925 - val_loss: 0.0287 - val_acc: 0.9921\n"
     ]
    },
    {
     "data": {
      "text/plain": [
       "<keras.callbacks.History at 0x7fa800326790>"
      ]
     },
     "execution_count": 28,
     "metadata": {},
     "output_type": "execute_result"
    }
   ],
   "source": [
    "model.fit_generator(batches, batches.N, nb_epoch=8, \n",
    "                    validation_data=test_batches, nb_val_samples=test_batches.N)"
   ]
  },
  {
   "cell_type": "code",
   "execution_count": 29,
   "metadata": {
    "collapsed": true,
    "hidden": true
   },
   "outputs": [],
   "source": [
    "model.optimizer.lr=0.001"
   ]
  },
  {
   "cell_type": "code",
   "execution_count": 30,
   "metadata": {
    "hidden": true
   },
   "outputs": [
    {
     "name": "stdout",
     "output_type": "stream",
     "text": [
      "Epoch 1/12\n",
      "60000/60000 [==============================] - 6s - loss: 0.0242 - acc: 0.9920 - val_loss: 0.0271 - val_acc: 0.9912\n",
      "Epoch 2/12\n",
      "60000/60000 [==============================] - 7s - loss: 0.0250 - acc: 0.9922 - val_loss: 0.0351 - val_acc: 0.9894\n",
      "Epoch 3/12\n",
      "60000/60000 [==============================] - 7s - loss: 0.0225 - acc: 0.9931 - val_loss: 0.0323 - val_acc: 0.9905\n",
      "Epoch 4/12\n",
      "60000/60000 [==============================] - 7s - loss: 0.0223 - acc: 0.9932 - val_loss: 0.0235 - val_acc: 0.9927\n",
      "Epoch 5/12\n",
      "60000/60000 [==============================] - 7s - loss: 0.0236 - acc: 0.9926 - val_loss: 0.0216 - val_acc: 0.9937\n",
      "Epoch 6/12\n",
      "60000/60000 [==============================] - 6s - loss: 0.0220 - acc: 0.9933 - val_loss: 0.0259 - val_acc: 0.9918\n",
      "Epoch 7/12\n",
      "60000/60000 [==============================] - 7s - loss: 0.0207 - acc: 0.9936 - val_loss: 0.0298 - val_acc: 0.9899\n",
      "Epoch 8/12\n",
      "60000/60000 [==============================] - 7s - loss: 0.0216 - acc: 0.9932 - val_loss: 0.0268 - val_acc: 0.9929\n",
      "Epoch 9/12\n",
      "60000/60000 [==============================] - 7s - loss: 0.0206 - acc: 0.9936 - val_loss: 0.0282 - val_acc: 0.9913\n",
      "Epoch 10/12\n",
      "60000/60000 [==============================] - 7s - loss: 0.0194 - acc: 0.9940 - val_loss: 0.0296 - val_acc: 0.9927\n",
      "Epoch 11/12\n",
      "60000/60000 [==============================] - 7s - loss: 0.0191 - acc: 0.9940 - val_loss: 0.0193 - val_acc: 0.9941\n",
      "Epoch 12/12\n",
      "60000/60000 [==============================] - 7s - loss: 0.0187 - acc: 0.9945 - val_loss: 0.0294 - val_acc: 0.9914\n"
     ]
    },
    {
     "data": {
      "text/plain": [
       "<keras.callbacks.History at 0x7fa800326ad0>"
      ]
     },
     "execution_count": 30,
     "metadata": {},
     "output_type": "execute_result"
    }
   ],
   "source": [
    "model.fit_generator(batches, batches.N, nb_epoch=14, \n",
    "                    validation_data=test_batches, nb_val_samples=test_batches.N)"
   ]
  },
  {
   "cell_type": "code",
   "execution_count": 31,
   "metadata": {
    "collapsed": true,
    "hidden": true
   },
   "outputs": [],
   "source": [
    "model.optimizer.lr=0.0001"
   ]
  },
  {
   "cell_type": "code",
   "execution_count": 32,
   "metadata": {
    "hidden": true
   },
   "outputs": [
    {
     "name": "stdout",
     "output_type": "stream",
     "text": [
      "Epoch 1/10\n",
      "60000/60000 [==============================] - 7s - loss: 0.0191 - acc: 0.9942 - val_loss: 0.0277 - val_acc: 0.9906\n",
      "Epoch 2/10\n",
      "60000/60000 [==============================] - 7s - loss: 0.0196 - acc: 0.9938 - val_loss: 0.0192 - val_acc: 0.9945\n",
      "Epoch 3/10\n",
      "60000/60000 [==============================] - 6s - loss: 0.0173 - acc: 0.9946 - val_loss: 0.0258 - val_acc: 0.9924\n",
      "Epoch 4/10\n",
      "60000/60000 [==============================] - 7s - loss: 0.0189 - acc: 0.9943 - val_loss: 0.0249 - val_acc: 0.9924\n",
      "Epoch 5/10\n",
      "60000/60000 [==============================] - 7s - loss: 0.0166 - acc: 0.9951 - val_loss: 0.0271 - val_acc: 0.9920\n",
      "Epoch 6/10\n",
      "60000/60000 [==============================] - 7s - loss: 0.0183 - acc: 0.9942 - val_loss: 0.0229 - val_acc: 0.9937\n",
      "Epoch 7/10\n",
      "60000/60000 [==============================] - 7s - loss: 0.0177 - acc: 0.9944 - val_loss: 0.0275 - val_acc: 0.9924\n",
      "Epoch 8/10\n",
      "60000/60000 [==============================] - 6s - loss: 0.0168 - acc: 0.9946 - val_loss: 0.0246 - val_acc: 0.9926\n",
      "Epoch 9/10\n",
      "60000/60000 [==============================] - 7s - loss: 0.0169 - acc: 0.9943 - val_loss: 0.0215 - val_acc: 0.9936\n",
      "Epoch 10/10\n",
      "60000/60000 [==============================] - 7s - loss: 0.0160 - acc: 0.9953 - val_loss: 0.0267 - val_acc: 0.9919\n"
     ]
    },
    {
     "data": {
      "text/plain": [
       "<keras.callbacks.History at 0x7fa800326fd0>"
      ]
     },
     "execution_count": 32,
     "metadata": {},
     "output_type": "execute_result"
    }
   ],
   "source": [
    "model.fit_generator(batches, batches.N, nb_epoch=10, \n",
    "                    validation_data=test_batches, nb_val_samples=test_batches.N)"
   ]
  },
  {
   "cell_type": "markdown",
   "metadata": {
    "heading_collapsed": true
   },
   "source": [
    "## Batchnorm + data augmentation"
   ]
  },
  {
   "cell_type": "code",
   "execution_count": 125,
   "metadata": {
    "hidden": true
   },
   "outputs": [],
   "source": [
    "def get_model_bn():\n",
    "    model = Sequential([\n",
    "        Lambda(norm_input, input_shape=(1,28,28)),\n",
    "        Convolution2D(32,3,3, activation='relu'),\n",
    "        BatchNormalization(axis=1),\n",
    "        Convolution2D(32,3,3, activation='relu'),\n",
    "        MaxPooling2D(),\n",
    "        BatchNormalization(axis=1),\n",
    "        Convolution2D(64,3,3, activation='relu'),\n",
    "        BatchNormalization(axis=1),\n",
    "        Convolution2D(64,3,3, activation='relu'),\n",
    "        MaxPooling2D(),\n",
    "        Flatten(),\n",
    "        BatchNormalization(),\n",
    "        Dense(512, activation='relu'),\n",
    "        BatchNormalization(),\n",
    "        Dense(10, activation='softmax')\n",
    "        ])\n",
    "    model.compile(Adam(), loss='categorical_crossentropy', metrics=['accuracy'])\n",
    "    return model"
   ]
  },
  {
   "cell_type": "code",
   "execution_count": 126,
   "metadata": {
    "collapsed": true,
    "hidden": true
   },
   "outputs": [],
   "source": [
    "model = get_model_bn()"
   ]
  },
  {
   "cell_type": "code",
   "execution_count": 127,
   "metadata": {
    "hidden": true,
    "scrolled": true
   },
   "outputs": [
    {
     "name": "stdout",
     "output_type": "stream",
     "text": [
      "Epoch 1/1\n",
      "60000/60000 [==============================] - 12s - loss: 0.1273 - acc: 0.9605 - val_loss: 0.0559 - val_acc: 0.9833\n"
     ]
    },
    {
     "data": {
      "text/plain": [
       "<keras.callbacks.History at 0x7f37acf896d0>"
      ]
     },
     "execution_count": 127,
     "metadata": {},
     "output_type": "execute_result"
    }
   ],
   "source": [
    "model.fit_generator(batches, batches.N, nb_epoch=1, \n",
    "                    validation_data=test_batches, nb_val_samples=test_batches.N)"
   ]
  },
  {
   "cell_type": "code",
   "execution_count": 128,
   "metadata": {
    "collapsed": true,
    "hidden": true
   },
   "outputs": [],
   "source": [
    "model.optimizer.lr=0.1"
   ]
  },
  {
   "cell_type": "code",
   "execution_count": 129,
   "metadata": {
    "hidden": true
   },
   "outputs": [
    {
     "name": "stdout",
     "output_type": "stream",
     "text": [
      "Epoch 1/4\n",
      "60000/60000 [==============================] - 13s - loss: 0.0555 - acc: 0.9827 - val_loss: 0.0439 - val_acc: 0.9859\n",
      "Epoch 2/4\n",
      "60000/60000 [==============================] - 13s - loss: 0.0455 - acc: 0.9859 - val_loss: 0.0337 - val_acc: 0.9899\n",
      "Epoch 3/4\n",
      "60000/60000 [==============================] - 13s - loss: 0.0377 - acc: 0.9882 - val_loss: 0.0332 - val_acc: 0.9890\n",
      "Epoch 4/4\n",
      "60000/60000 [==============================] - 13s - loss: 0.0372 - acc: 0.9884 - val_loss: 0.0303 - val_acc: 0.9904\n"
     ]
    },
    {
     "data": {
      "text/plain": [
       "<keras.callbacks.History at 0x7f37acc5b450>"
      ]
     },
     "execution_count": 129,
     "metadata": {},
     "output_type": "execute_result"
    }
   ],
   "source": [
    "model.fit_generator(batches, batches.N, nb_epoch=4, \n",
    "                    validation_data=test_batches, nb_val_samples=test_batches.N)"
   ]
  },
  {
   "cell_type": "code",
   "execution_count": 130,
   "metadata": {
    "collapsed": true,
    "hidden": true
   },
   "outputs": [],
   "source": [
    "model.optimizer.lr=0.01"
   ]
  },
  {
   "cell_type": "code",
   "execution_count": 131,
   "metadata": {
    "hidden": true
   },
   "outputs": [
    {
     "name": "stdout",
     "output_type": "stream",
     "text": [
      "Epoch 1/12\n",
      "60000/60000 [==============================] - 13s - loss: 0.0327 - acc: 0.9900 - val_loss: 0.0312 - val_acc: 0.9911\n",
      "Epoch 2/12\n",
      "60000/60000 [==============================] - 12s - loss: 0.0290 - acc: 0.9911 - val_loss: 0.0349 - val_acc: 0.9893\n",
      "Epoch 3/12\n",
      "60000/60000 [==============================] - 13s - loss: 0.0293 - acc: 0.9912 - val_loss: 0.0452 - val_acc: 0.9853\n",
      "Epoch 4/12\n",
      "60000/60000 [==============================] - 13s - loss: 0.0266 - acc: 0.9915 - val_loss: 0.0260 - val_acc: 0.9924\n",
      "Epoch 5/12\n",
      "60000/60000 [==============================] - 12s - loss: 0.0236 - acc: 0.9924 - val_loss: 0.0234 - val_acc: 0.9927\n",
      "Epoch 6/12\n",
      "60000/60000 [==============================] - 13s - loss: 0.0234 - acc: 0.9927 - val_loss: 0.0305 - val_acc: 0.9901\n",
      "Epoch 7/12\n",
      "60000/60000 [==============================] - 12s - loss: 0.0234 - acc: 0.9929 - val_loss: 0.0164 - val_acc: 0.9960\n",
      "Epoch 8/12\n",
      "60000/60000 [==============================] - 13s - loss: 0.0198 - acc: 0.9935 - val_loss: 0.0333 - val_acc: 0.9898\n",
      "Epoch 9/12\n",
      "60000/60000 [==============================] - 12s - loss: 0.0201 - acc: 0.9939 - val_loss: 0.0184 - val_acc: 0.9940\n",
      "Epoch 10/12\n",
      "60000/60000 [==============================] - 12s - loss: 0.0173 - acc: 0.9945 - val_loss: 0.0194 - val_acc: 0.9938\n",
      "Epoch 11/12\n",
      "60000/60000 [==============================] - 13s - loss: 0.0183 - acc: 0.9940 - val_loss: 0.0323 - val_acc: 0.9904\n",
      "Epoch 12/12\n",
      "60000/60000 [==============================] - 13s - loss: 0.0177 - acc: 0.9945 - val_loss: 0.0294 - val_acc: 0.9918\n"
     ]
    },
    {
     "data": {
      "text/plain": [
       "<keras.callbacks.History at 0x7f37b176aa50>"
      ]
     },
     "execution_count": 131,
     "metadata": {},
     "output_type": "execute_result"
    }
   ],
   "source": [
    "model.fit_generator(batches, batches.N, nb_epoch=12, \n",
    "                    validation_data=test_batches, nb_val_samples=test_batches.N)"
   ]
  },
  {
   "cell_type": "code",
   "execution_count": 132,
   "metadata": {
    "collapsed": true,
    "hidden": true
   },
   "outputs": [],
   "source": [
    "model.optimizer.lr=0.001"
   ]
  },
  {
   "cell_type": "code",
   "execution_count": 133,
   "metadata": {
    "hidden": true
   },
   "outputs": [
    {
     "name": "stdout",
     "output_type": "stream",
     "text": [
      "Epoch 1/12\n",
      "60000/60000 [==============================] - 13s - loss: 0.0166 - acc: 0.9947 - val_loss: 0.0205 - val_acc: 0.9933\n",
      "Epoch 2/12\n",
      "60000/60000 [==============================] - 13s - loss: 0.0168 - acc: 0.9950 - val_loss: 0.0194 - val_acc: 0.9942\n",
      "Epoch 3/12\n",
      "60000/60000 [==============================] - 12s - loss: 0.0151 - acc: 0.9953 - val_loss: 0.0197 - val_acc: 0.9942\n",
      "Epoch 4/12\n",
      "60000/60000 [==============================] - 13s - loss: 0.0135 - acc: 0.9954 - val_loss: 0.0179 - val_acc: 0.9938\n",
      "Epoch 5/12\n",
      "60000/60000 [==============================] - 12s - loss: 0.0143 - acc: 0.9953 - val_loss: 0.0257 - val_acc: 0.9925\n",
      "Epoch 6/12\n",
      "60000/60000 [==============================] - 12s - loss: 0.0139 - acc: 0.9954 - val_loss: 0.0150 - val_acc: 0.9949\n",
      "Epoch 7/12\n",
      "60000/60000 [==============================] - 13s - loss: 0.0127 - acc: 0.9958 - val_loss: 0.0218 - val_acc: 0.9932\n",
      "Epoch 8/12\n",
      "60000/60000 [==============================] - 13s - loss: 0.0121 - acc: 0.9962 - val_loss: 0.0264 - val_acc: 0.9917\n",
      "Epoch 9/12\n",
      "60000/60000 [==============================] - 13s - loss: 0.0120 - acc: 0.9960 - val_loss: 0.0209 - val_acc: 0.9935\n",
      "Epoch 10/12\n",
      "60000/60000 [==============================] - 13s - loss: 0.0130 - acc: 0.9957 - val_loss: 0.0171 - val_acc: 0.9948\n",
      "Epoch 11/12\n",
      "60000/60000 [==============================] - 13s - loss: 0.0132 - acc: 0.9958 - val_loss: 0.0227 - val_acc: 0.9932\n",
      "Epoch 12/12\n",
      "60000/60000 [==============================] - 12s - loss: 0.0115 - acc: 0.9964 - val_loss: 0.0172 - val_acc: 0.9945\n"
     ]
    },
    {
     "data": {
      "text/plain": [
       "<keras.callbacks.History at 0x7f37b1789c50>"
      ]
     },
     "execution_count": 133,
     "metadata": {},
     "output_type": "execute_result"
    }
   ],
   "source": [
    "model.fit_generator(batches, batches.N, nb_epoch=12, \n",
    "                    validation_data=test_batches, nb_val_samples=test_batches.N)"
   ]
  },
  {
   "cell_type": "markdown",
   "metadata": {
    "heading_collapsed": true
   },
   "source": [
    "## Batchnorm + dropout + data augmentation"
   ]
  },
  {
   "cell_type": "code",
   "execution_count": 79,
   "metadata": {
    "hidden": true
   },
   "outputs": [],
   "source": [
    "def get_model_bn_do():\n",
    "    model = Sequential([\n",
    "        Lambda(norm_input, input_shape=(1,28,28)),\n",
    "        Convolution2D(32,3,3, activation='relu'),\n",
    "        BatchNormalization(axis=1),\n",
    "        Convolution2D(32,3,3, activation='relu'),\n",
    "        MaxPooling2D(),\n",
    "        BatchNormalization(axis=1),\n",
    "        Convolution2D(64,3,3, activation='relu'),\n",
    "        BatchNormalization(axis=1),\n",
    "        Convolution2D(64,3,3, activation='relu'),\n",
    "        MaxPooling2D(),\n",
    "        Flatten(),\n",
    "        BatchNormalization(),\n",
    "        Dense(512, activation='relu'),\n",
    "        BatchNormalization(),\n",
    "        Dropout(0.5),\n",
    "        Dense(10, activation='softmax')\n",
    "        ])\n",
    "    model.compile(Adam(), loss='categorical_crossentropy', metrics=['accuracy'])\n",
    "    return model"
   ]
  },
  {
   "cell_type": "code",
   "execution_count": 80,
   "metadata": {
    "hidden": true
   },
   "outputs": [],
   "source": [
    "model = get_model_bn_do()"
   ]
  },
  {
   "cell_type": "code",
   "execution_count": 81,
   "metadata": {
    "hidden": true,
    "scrolled": true
   },
   "outputs": [
    {
     "name": "stdout",
     "output_type": "stream",
     "text": [
      "Epoch 1/1\n",
      "60000/60000 [==============================] - 13s - loss: 0.1894 - acc: 0.9419 - val_loss: 0.0605 - val_acc: 0.9815\n"
     ]
    },
    {
     "data": {
      "text/plain": [
       "<keras.callbacks.History at 0x7fa7cea0d950>"
      ]
     },
     "execution_count": 81,
     "metadata": {},
     "output_type": "execute_result"
    }
   ],
   "source": [
    "model.fit_generator(batches, batches.N, nb_epoch=1, \n",
    "                    validation_data=test_batches, nb_val_samples=test_batches.N)"
   ]
  },
  {
   "cell_type": "code",
   "execution_count": 82,
   "metadata": {
    "collapsed": true,
    "hidden": true
   },
   "outputs": [],
   "source": [
    "model.optimizer.lr=0.1"
   ]
  },
  {
   "cell_type": "code",
   "execution_count": 83,
   "metadata": {
    "hidden": true,
    "scrolled": false
   },
   "outputs": [
    {
     "name": "stdout",
     "output_type": "stream",
     "text": [
      "Epoch 1/4\n",
      "60000/60000 [==============================] - 13s - loss: 0.0766 - acc: 0.9764 - val_loss: 0.0394 - val_acc: 0.9871\n",
      "Epoch 2/4\n",
      "60000/60000 [==============================] - 13s - loss: 0.0622 - acc: 0.9806 - val_loss: 0.0360 - val_acc: 0.9885\n",
      "Epoch 3/4\n",
      "60000/60000 [==============================] - 13s - loss: 0.0576 - acc: 0.9830 - val_loss: 0.0364 - val_acc: 0.9882\n",
      "Epoch 4/4\n",
      "60000/60000 [==============================] - 14s - loss: 0.0512 - acc: 0.9842 - val_loss: 0.0347 - val_acc: 0.9911\n"
     ]
    },
    {
     "data": {
      "text/plain": [
       "<keras.callbacks.History at 0x7fa7ce2c69d0>"
      ]
     },
     "execution_count": 83,
     "metadata": {},
     "output_type": "execute_result"
    }
   ],
   "source": [
    "model.fit_generator(batches, batches.N, nb_epoch=4, \n",
    "                    validation_data=test_batches, nb_val_samples=test_batches.N)"
   ]
  },
  {
   "cell_type": "code",
   "execution_count": 84,
   "metadata": {
    "collapsed": true,
    "hidden": true
   },
   "outputs": [],
   "source": [
    "model.optimizer.lr=0.01"
   ]
  },
  {
   "cell_type": "code",
   "execution_count": 85,
   "metadata": {
    "hidden": true,
    "scrolled": true
   },
   "outputs": [
    {
     "name": "stdout",
     "output_type": "stream",
     "text": [
      "Epoch 1/12\n",
      "60000/60000 [==============================] - 14s - loss: 0.0464 - acc: 0.9862 - val_loss: 0.0300 - val_acc: 0.9904\n",
      "Epoch 2/12\n",
      "60000/60000 [==============================] - 13s - loss: 0.0474 - acc: 0.9856 - val_loss: 0.0287 - val_acc: 0.9912\n",
      "Epoch 3/12\n",
      "60000/60000 [==============================] - 13s - loss: 0.0400 - acc: 0.9880 - val_loss: 0.0408 - val_acc: 0.9879\n",
      "Epoch 4/12\n",
      "60000/60000 [==============================] - 14s - loss: 0.0379 - acc: 0.9884 - val_loss: 0.0255 - val_acc: 0.9918\n",
      "Epoch 5/12\n",
      "60000/60000 [==============================] - 13s - loss: 0.0394 - acc: 0.9881 - val_loss: 0.0247 - val_acc: 0.9923\n",
      "Epoch 6/12\n",
      "60000/60000 [==============================] - 14s - loss: 0.0344 - acc: 0.9893 - val_loss: 0.0267 - val_acc: 0.9921\n",
      "Epoch 7/12\n",
      "60000/60000 [==============================] - 14s - loss: 0.0342 - acc: 0.9895 - val_loss: 0.0208 - val_acc: 0.9938\n",
      "Epoch 8/12\n",
      "60000/60000 [==============================] - 14s - loss: 0.0291 - acc: 0.9908 - val_loss: 0.0251 - val_acc: 0.9914\n",
      "Epoch 9/12\n",
      "60000/60000 [==============================] - 14s - loss: 0.0309 - acc: 0.9907 - val_loss: 0.0253 - val_acc: 0.9919\n",
      "Epoch 10/12\n",
      "60000/60000 [==============================] - 14s - loss: 0.0299 - acc: 0.9906 - val_loss: 0.0205 - val_acc: 0.9934\n",
      "Epoch 11/12\n",
      "60000/60000 [==============================] - 14s - loss: 0.0276 - acc: 0.9912 - val_loss: 0.0200 - val_acc: 0.9940\n",
      "Epoch 12/12\n",
      "60000/60000 [==============================] - 13s - loss: 0.0268 - acc: 0.9918 - val_loss: 0.0201 - val_acc: 0.9929\n"
     ]
    },
    {
     "data": {
      "text/plain": [
       "<keras.callbacks.History at 0x7fa7ce2e1810>"
      ]
     },
     "execution_count": 85,
     "metadata": {},
     "output_type": "execute_result"
    }
   ],
   "source": [
    "model.fit_generator(batches, batches.N, nb_epoch=12, \n",
    "                    validation_data=test_batches, nb_val_samples=test_batches.N)"
   ]
  },
  {
   "cell_type": "code",
   "execution_count": 86,
   "metadata": {
    "collapsed": true,
    "hidden": true
   },
   "outputs": [],
   "source": [
    "model.optimizer.lr=0.001"
   ]
  },
  {
   "cell_type": "code",
   "execution_count": 89,
   "metadata": {
    "hidden": true,
    "scrolled": true
   },
   "outputs": [
    {
     "name": "stdout",
     "output_type": "stream",
     "text": [
      "Epoch 1/1\n",
      "60000/60000 [==============================] - 13s - loss: 0.0186 - acc: 0.9942 - val_loss: 0.0193 - val_acc: 0.9945\n"
     ]
    },
    {
     "data": {
      "text/plain": [
       "<keras.callbacks.History at 0x7fa7ce5cf290>"
      ]
     },
     "execution_count": 89,
     "metadata": {},
     "output_type": "execute_result"
    }
   ],
   "source": [
    "model.fit_generator(batches, batches.N, nb_epoch=1, \n",
    "                    validation_data=test_batches, nb_val_samples=test_batches.N)"
   ]
  },
  {
   "cell_type": "markdown",
   "metadata": {},
   "source": [
    "## Ensembling"
   ]
  },
  {
   "cell_type": "code",
   "execution_count": 90,
   "metadata": {
    "collapsed": true
   },
   "outputs": [],
   "source": [
    "def fit_model():\n",
    "    model = get_model_bn_do()\n",
    "    model.fit_generator(batches, batches.N, nb_epoch=1, verbose=0,\n",
    "                        validation_data=test_batches, nb_val_samples=test_batches.N)\n",
    "    model.optimizer.lr=0.1\n",
    "    model.fit_generator(batches, batches.N, nb_epoch=4, verbose=0,\n",
    "                        validation_data=test_batches, nb_val_samples=test_batches.N)\n",
    "    model.optimizer.lr=0.01\n",
    "    model.fit_generator(batches, batches.N, nb_epoch=12, verbose=0,\n",
    "                        validation_data=test_batches, nb_val_samples=test_batches.N)\n",
    "    model.optimizer.lr=0.001\n",
    "    model.fit_generator(batches, batches.N, nb_epoch=18, verbose=0,\n",
    "                        validation_data=test_batches, nb_val_samples=test_batches.N)\n",
    "    return model"
   ]
  },
  {
   "cell_type": "code",
   "execution_count": 91,
   "metadata": {
    "collapsed": true
   },
   "outputs": [],
   "source": [
    "models = [fit_model() for i in range(6)]"
   ]
  },
  {
   "cell_type": "code",
   "execution_count": 92,
   "metadata": {
    "collapsed": true
   },
   "outputs": [],
   "source": [
    "path = \"data/mnist/\"\n",
    "model_path = path + 'models/'"
   ]
  },
  {
   "cell_type": "code",
   "execution_count": 93,
   "metadata": {},
   "outputs": [],
   "source": [
    "for i,m in enumerate(models):\n",
    "    m.save_weights(model_path+'cnn-mnist23-'+str(i)+'.pkl')"
   ]
  },
  {
   "cell_type": "code",
   "execution_count": 94,
   "metadata": {},
   "outputs": [
    {
     "name": "stdout",
     "output_type": "stream",
     "text": [
      " 9984/10000 [============================>.] - ETA: 0s"
     ]
    }
   ],
   "source": [
    "evals = np.array([m.evaluate(X_test, y_test, batch_size=256) for m in models])"
   ]
  },
  {
   "cell_type": "code",
   "execution_count": 95,
   "metadata": {},
   "outputs": [
    {
     "data": {
      "text/plain": [
       "array([ 0.016,  0.995])"
      ]
     },
     "execution_count": 95,
     "metadata": {},
     "output_type": "execute_result"
    }
   ],
   "source": [
    "evals.mean(axis=0)"
   ]
  },
  {
   "cell_type": "code",
   "execution_count": 96,
   "metadata": {},
   "outputs": [],
   "source": [
    "all_preds = np.stack([m.predict(X_test, batch_size=256) for m in models])"
   ]
  },
  {
   "cell_type": "code",
   "execution_count": 97,
   "metadata": {},
   "outputs": [
    {
     "data": {
      "text/plain": [
       "(6, 10000, 10)"
      ]
     },
     "execution_count": 97,
     "metadata": {},
     "output_type": "execute_result"
    }
   ],
   "source": [
    "all_preds.shape"
   ]
  },
  {
   "cell_type": "code",
   "execution_count": 98,
   "metadata": {},
   "outputs": [],
   "source": [
    "avg_preds = all_preds.mean(axis=0)"
   ]
  },
  {
   "cell_type": "code",
   "execution_count": 99,
   "metadata": {
    "scrolled": true
   },
   "outputs": [
    {
     "data": {
      "text/plain": [
       "array(0.9969000220298767, dtype=float32)"
      ]
     },
     "execution_count": 99,
     "metadata": {},
     "output_type": "execute_result"
    }
   ],
   "source": [
    "keras.metrics.categorical_accuracy(y_test, avg_preds).eval()"
   ]
  },
  {
   "cell_type": "code",
   "execution_count": null,
   "metadata": {
    "collapsed": true
   },
   "outputs": [],
   "source": []
  }
 ],
 "metadata": {
  "kernelspec": {
   "display_name": "Python 3",
   "language": "python",
   "name": "python3"
  },
  "language_info": {
   "codemirror_mode": {
    "name": "ipython",
    "version": 3
   },
   "file_extension": ".py",
   "mimetype": "text/x-python",
   "name": "python",
   "nbconvert_exporter": "python",
   "pygments_lexer": "ipython3",
   "version": "3.6.2"
  },
  "nav_menu": {},
  "toc": {
   "navigate_menu": true,
   "number_sections": true,
   "sideBar": true,
   "threshold": 6,
   "toc_cell": false,
   "toc_section_display": "block",
   "toc_window_display": false
  },
  "widgets": {
   "state": {},
   "version": "1.1.2"
  }
 },
 "nbformat": 4,
 "nbformat_minor": 1
}
