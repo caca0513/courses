{
 "cells": [
  {
   "cell_type": "code",
   "execution_count": 13,
   "metadata": {},
   "outputs": [],
   "source": [
    "from collections import Counter\n",
    "import spacy\n",
    "from tabulate import tabulate\n",
    "from spacy import displacy"
   ]
  },
  {
   "cell_type": "code",
   "execution_count": 2,
   "metadata": {},
   "outputs": [],
   "source": [
    "nlp = spacy.load('en_core_web_lg')"
   ]
  },
  {
   "cell_type": "code",
   "execution_count": 4,
   "metadata": {},
   "outputs": [],
   "source": [
    "doc = nlp(u\"I am quite new to Python and I am now struggling with formatting my data nicely for printed output.\"\n",
    "\n",
    "u\"I have one list that is used for two headings, and a matrix that should be the contents of the table. \")"
   ]
  },
  {
   "cell_type": "code",
   "execution_count": 12,
   "metadata": {},
   "outputs": [
    {
     "name": "stdout",
     "output_type": "stream",
     "text": [
      "text        lemma_\n",
      "----------  --------\n",
      "I           -PRON-\n",
      "am          be\n",
      "quite       quite\n",
      "new         new\n",
      "to          to\n",
      "Python      python\n",
      "and         and\n",
      "I           -PRON-\n",
      "am          be\n",
      "now         now\n",
      "struggling  struggle\n",
      "with        with\n",
      "formatting  format\n",
      "my          -PRON-\n",
      "data        datum\n",
      "nicely      nicely\n",
      "for         for\n",
      "printed     print\n",
      "output      output\n",
      ".           .\n",
      "I           -PRON-\n",
      "have        have\n",
      "one         one\n",
      "list        list\n",
      "that        that\n",
      "is          be\n",
      "used        use\n",
      "for         for\n",
      "two         two\n",
      "headings    heading\n",
      ",           ,\n",
      "and         and\n",
      "a           a\n",
      "matrix      matrix\n",
      "that        that\n",
      "should      should\n",
      "be          be\n",
      "the         the\n",
      "contents    content\n",
      "of          of\n",
      "the         the\n",
      "table       table\n",
      ".           .\n"
     ]
    }
   ],
   "source": [
    "print(tabulate([[token.text, token.lemma_]for token in doc], headers=['text', 'lemma_']))"
   ]
  },
  {
   "cell_type": "code",
   "execution_count": 14,
   "metadata": {},
   "outputs": [
    {
     "name": "stdout",
     "output_type": "stream",
     "text": [
      "\n",
      "    Serving on port 5000...\n",
      "    Using the 'dep' visualizer\n",
      "\n"
     ]
    },
    {
     "name": "stderr",
     "output_type": "stream",
     "text": [
      "127.0.0.1 - - [04/Sep/2018 23:13:28] \"GET / HTTP/1.1\" 200 29365\n",
      "127.0.0.1 - - [04/Sep/2018 23:13:28] \"GET /favicon.ico HTTP/1.1\" 200 29365\n"
     ]
    },
    {
     "name": "stdout",
     "output_type": "stream",
     "text": [
      "\n",
      "    Shutting down server on port 5000.\n",
      "\n"
     ]
    }
   ],
   "source": [
    "displacy.serve(doc, style='dep')"
   ]
  },
  {
   "cell_type": "code",
   "execution_count": null,
   "metadata": {},
   "outputs": [],
   "source": []
  }
 ],
 "metadata": {
  "kernelspec": {
   "display_name": "Python 3",
   "language": "python",
   "name": "python3"
  },
  "language_info": {
   "codemirror_mode": {
    "name": "ipython",
    "version": 3
   },
   "file_extension": ".py",
   "mimetype": "text/x-python",
   "name": "python",
   "nbconvert_exporter": "python",
   "pygments_lexer": "ipython3",
   "version": "3.6.6"
  }
 },
 "nbformat": 4,
 "nbformat_minor": 2
}
